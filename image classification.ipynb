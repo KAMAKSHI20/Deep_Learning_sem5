{
  "nbformat": 4,
  "nbformat_minor": 0,
  "metadata": {
    "colab": {
      "provenance": []
    },
    "kernelspec": {
      "name": "python3",
      "display_name": "Python 3"
    },
    "language_info": {
      "name": "python"
    },
    "accelerator": "GPU",
    "gpuClass": "standard"
  },
  "cells": [
    {
      "cell_type": "code",
      "execution_count": null,
      "metadata": {
        "colab": {
          "base_uri": "https://localhost:8080/"
        },
        "id": "8ls84OXeizIV",
        "outputId": "1558f38d-268d-445d-ec98-1515d0cd6bad"
      },
      "outputs": [
        {
          "output_type": "stream",
          "name": "stdout",
          "text": [
            "2.8.2\n"
          ]
        }
      ],
      "source": [
        "import tensorflow as tf\n",
        "print(tf.__version__)"
      ]
    },
    {
      "cell_type": "markdown",
      "source": [],
      "metadata": {
        "id": "ULxWmDaSjt0d"
      }
    },
    {
      "cell_type": "code",
      "source": [
        "print(tf.test.is_built_with_cuda())\n",
        "print(tf.test.is_built_with_gpu_support())"
      ],
      "metadata": {
        "colab": {
          "base_uri": "https://localhost:8080/"
        },
        "id": "utJIirk-ne5h",
        "outputId": "eed8319e-1fa1-48e2-cf0d-943dee2fd814"
      },
      "execution_count": null,
      "outputs": [
        {
          "output_type": "stream",
          "name": "stdout",
          "text": [
            "True\n",
            "True\n"
          ]
        }
      ]
    },
    {
      "cell_type": "markdown",
      "source": [
        "list of physical devices"
      ],
      "metadata": {
        "id": "VEQT8qryoyq6"
      }
    },
    {
      "cell_type": "code",
      "source": [
        "d=tf.config.list_physical_devices()\n",
        "for device in d:\n",
        "    print(device)"
      ],
      "metadata": {
        "colab": {
          "base_uri": "https://localhost:8080/"
        },
        "id": "FN58UUcNoh8p",
        "outputId": "44828fad-5bb6-471a-f2fb-7483e5e44c45"
      },
      "execution_count": null,
      "outputs": [
        {
          "output_type": "stream",
          "name": "stdout",
          "text": [
            "PhysicalDevice(name='/physical_device:CPU:0', device_type='CPU')\n",
            "PhysicalDevice(name='/physical_device:GPU:0', device_type='GPU')\n"
          ]
        }
      ]
    },
    {
      "cell_type": "code",
      "source": [
        "print(tf.config.list_physical_devices('CPU'))\n",
        "print(tf.test.gpu_device_name())"
      ],
      "metadata": {
        "colab": {
          "base_uri": "https://localhost:8080/"
        },
        "id": "AyCC-5jophTo",
        "outputId": "0b35fc7e-d543-4aaf-8ec0-47162db22c4b"
      },
      "execution_count": null,
      "outputs": [
        {
          "output_type": "stream",
          "name": "stdout",
          "text": [
            "[PhysicalDevice(name='/physical_device:CPU:0', device_type='CPU')]\n",
            "/device:GPU:0\n"
          ]
        }
      ]
    },
    {
      "cell_type": "markdown",
      "source": [
        "make tensor"
      ],
      "metadata": {
        "id": "_95xh4cEqTJj"
      }
    },
    {
      "cell_type": "code",
      "source": [
        "x=tf.constant(10)\n",
        "print(x.device)\n",
        "print(x)\n",
        "print(x.numpy())   #for check the value of tensor flow\n",
        "print(x.shape)      #where "
      ],
      "metadata": {
        "colab": {
          "base_uri": "https://localhost:8080/"
        },
        "id": "N3I8GqUiqDe0",
        "outputId": "9e6c57de-2eec-4e96-b6a3-71b554a9cb1d"
      },
      "execution_count": null,
      "outputs": [
        {
          "output_type": "stream",
          "name": "stdout",
          "text": [
            "/job:localhost/replica:0/task:0/device:GPU:0\n",
            "tf.Tensor(10, shape=(), dtype=int32)\n",
            "10\n",
            "()\n"
          ]
        }
      ]
    },
    {
      "cell_type": "markdown",
      "source": [
        "tensor is a data structure ,it has shape () empty\n",
        ",(10,0) vector \n",
        "(10,20) matrix"
      ],
      "metadata": {
        "id": "kh4ip7VyqoXG"
      }
    },
    {
      "cell_type": "code",
      "source": [
        "y=tf.zeros((10,5))\n",
        "print(y.device)\n",
        "print(y.numpy())\n",
        "print(y.shape)"
      ],
      "metadata": {
        "colab": {
          "base_uri": "https://localhost:8080/"
        },
        "id": "WG8-12aJq3_r",
        "outputId": "e97c68fe-0460-4350-ed31-57eddb90ae7a"
      },
      "execution_count": null,
      "outputs": [
        {
          "output_type": "stream",
          "name": "stdout",
          "text": [
            "/job:localhost/replica:0/task:0/device:GPU:0\n",
            "[[0. 0. 0. 0. 0.]\n",
            " [0. 0. 0. 0. 0.]\n",
            " [0. 0. 0. 0. 0.]\n",
            " [0. 0. 0. 0. 0.]\n",
            " [0. 0. 0. 0. 0.]\n",
            " [0. 0. 0. 0. 0.]\n",
            " [0. 0. 0. 0. 0.]\n",
            " [0. 0. 0. 0. 0.]\n",
            " [0. 0. 0. 0. 0.]\n",
            " [0. 0. 0. 0. 0.]]\n",
            "(10, 5)\n"
          ]
        }
      ]
    },
    {
      "cell_type": "markdown",
      "source": [
        "similirly with variables"
      ],
      "metadata": {
        "id": "GYRxpOGzr22H"
      }
    },
    {
      "cell_type": "code",
      "source": [
        "x=tf.Variable(10)\n",
        "print(x.device)\n",
        "print(x)\n",
        "print(x.numpy())\n",
        "x=tf.Variable(tf.zeros(10))\n",
        "print(x.device)"
      ],
      "metadata": {
        "colab": {
          "base_uri": "https://localhost:8080/"
        },
        "id": "ukjOJ1yjr9V5",
        "outputId": "b3c1c635-98ef-472d-ff19-3129fc7e0894"
      },
      "execution_count": null,
      "outputs": [
        {
          "output_type": "stream",
          "name": "stdout",
          "text": [
            "/job:localhost/replica:0/task:0/device:CPU:0\n",
            "<tf.Variable 'Variable:0' shape=() dtype=int32, numpy=10>\n",
            "10\n",
            "/job:localhost/replica:0/task:0/device:GPU:0\n"
          ]
        }
      ]
    },
    {
      "cell_type": "markdown",
      "source": [
        "debugging mode on"
      ],
      "metadata": {
        "id": "4hDWcBhusdhI"
      }
    },
    {
      "cell_type": "code",
      "source": [
        "import tensorflow as tf\n",
        "tf.debugging.set_log_device_placement(True)\n",
        "a=tf.constant([[1.,2,3],[4,5,6]])\n",
        "b=tf.constant([[1.,2],[2,3],[4,5]])\n",
        "c=tf.matmul(a,b)\n",
        "d=tf.Variable(10)\n",
        "e=d+10"
      ],
      "metadata": {
        "colab": {
          "base_uri": "https://localhost:8080/"
        },
        "id": "jar1rMvUsgV-",
        "outputId": "bdfc19ae-b6f4-4bb8-af09-c2846e0f35a1"
      },
      "execution_count": null,
      "outputs": [
        {
          "output_type": "stream",
          "name": "stdout",
          "text": [
            "Executing op _EagerConst in device /job:localhost/replica:0/task:0/device:GPU:0\n",
            "Executing op _EagerConst in device /job:localhost/replica:0/task:0/device:GPU:0\n",
            "Executing op MatMul in device /job:localhost/replica:0/task:0/device:GPU:0\n",
            "Executing op _EagerConst in device /job:localhost/replica:0/task:0/device:GPU:0\n",
            "Executing op VarHandleOp in device /job:localhost/replica:0/task:0/device:CPU:0\n",
            "Executing op AssignVariableOp in device /job:localhost/replica:0/task:0/device:CPU:0\n",
            "Executing op ReadVariableOp in device /job:localhost/replica:0/task:0/device:CPU:0\n",
            "Executing op _EagerConst in device /job:localhost/replica:0/task:0/device:GPU:0\n",
            "Executing op AddV2 in device /job:localhost/replica:0/task:0/device:GPU:0\n"
          ]
        }
      ]
    },
    {
      "cell_type": "markdown",
      "source": [
        "EagerConst "
      ],
      "metadata": {
        "id": "oWj33hX9ty_2"
      }
    },
    {
      "cell_type": "code",
      "source": [
        "print(c)"
      ],
      "metadata": {
        "colab": {
          "base_uri": "https://localhost:8080/"
        },
        "id": "f5tE3PnHuAg7",
        "outputId": "61578556-0302-4aa5-b6ff-0acff46bddf1"
      },
      "execution_count": null,
      "outputs": [
        {
          "output_type": "stream",
          "name": "stdout",
          "text": [
            "tf.Tensor(\n",
            "[[17. 23.]\n",
            " [38. 53.]], shape=(2, 2), dtype=float32)\n"
          ]
        }
      ]
    },
    {
      "cell_type": "code",
      "source": [
        "import tensorflow as tf\n",
        "tf.debugging.set_log_device_placement(True)\n",
        "a=tf.constant(10)\n",
        "b=tf.constant(20)\n",
        "c=tf.constant(30)\n",
        "z=a+b+c\n",
        "print(z.numpy())"
      ],
      "metadata": {
        "colab": {
          "base_uri": "https://localhost:8080/"
        },
        "id": "YyaRpKZLuUIY",
        "outputId": "37dba3ec-abb5-431b-d144-66e26df00560"
      },
      "execution_count": null,
      "outputs": [
        {
          "output_type": "stream",
          "name": "stdout",
          "text": [
            "Executing op _EagerConst in device /job:localhost/replica:0/task:0/device:GPU:0\n",
            "Executing op _EagerConst in device /job:localhost/replica:0/task:0/device:GPU:0\n",
            "Executing op AddV2 in device /job:localhost/replica:0/task:0/device:GPU:0\n",
            "Executing op AddV2 in device /job:localhost/replica:0/task:0/device:GPU:0\n",
            "60\n"
          ]
        }
      ]
    },
    {
      "cell_type": "markdown",
      "source": [
        "creating graph"
      ],
      "metadata": {
        "id": "be5eqp8iup6S"
      }
    },
    {
      "cell_type": "code",
      "source": [
        "import tensorflow as tf\n",
        "tf.debugging.set_log_device_placement(True)\n",
        "def sum_t(a,b,c):\n",
        "    z=a+b+c\n",
        "    return z\n",
        "graph=tf.function(sum_t)\n",
        "a=tf.constant(10)\n",
        "b=tf.constant(20)\n",
        "c=tf.constant(30)\n",
        "print(graph(a,b,c).numpy())"
      ],
      "metadata": {
        "colab": {
          "base_uri": "https://localhost:8080/"
        },
        "id": "BAp0yes2uoow",
        "outputId": "337ba552-76ce-4241-f0d3-52f250156fe5"
      },
      "execution_count": null,
      "outputs": [
        {
          "output_type": "stream",
          "name": "stdout",
          "text": [
            "Executing op _EagerConst in device /job:localhost/replica:0/task:0/device:GPU:0\n",
            "Executing op _EagerConst in device /job:localhost/replica:0/task:0/device:GPU:0\n",
            "Executing op _EagerConst in device /job:localhost/replica:0/task:0/device:GPU:0\n",
            "Executing op __inference_sum_t_12 in device /job:localhost/replica:0/task:0/device:GPU:0\n",
            "60\n"
          ]
        }
      ]
    },
    {
      "cell_type": "code",
      "source": [],
      "metadata": {
        "id": "CQoXdpSDmXwR"
      },
      "execution_count": null,
      "outputs": []
    },
    {
      "cell_type": "code",
      "source": [
        "def merge(A,p,q,r):\n",
        "    n1=q-p+1\n",
        "    n2=r-q\n",
        "    L=[0]*(n1)\n",
        "    R=[0]*(n2)\n",
        "    for i in range(n1):\n",
        "        L[i]=A[p+i]\n",
        "    for j in range(n2):\n",
        "        R[i]=A[q+j+1]\n",
        "    \n",
        "    \n",
        "    i=0\n",
        "    j=0\n",
        "    k=p\n",
        "    while i < n1 and j < n2:\n",
        "        if L[i] <= R[j]:\n",
        "            A[k] = L[i]\n",
        "            i += 1\n",
        "        else:\n",
        "            A[k] = R[j]\n",
        "            j += 1\n",
        "        k += 1\n",
        "            \n",
        "    while i < n1:\n",
        "        A[k] = L[i]\n",
        "        i += 1\n",
        "        k += 1\n",
        "    while j < n2:\n",
        "        A[k] = R[j]\n",
        "        j += 1\n",
        "        k += 1\n",
        "            \n",
        "\n",
        "def merge_sort(A,p,r):\n",
        "    if p<r:\n",
        "        \n",
        "        q=(p+(r-1))//2\n",
        "        merge_sort(A,p,q)\n",
        "        merge_sort(A,q+1,r)\n",
        "        merge(A,p,q,r)\n",
        "    \n",
        "\n",
        "    \n",
        "            \n",
        "A=[5,4,3,2,1]\n",
        "p=0\n",
        "r=len(A)-1\n",
        "merge_sort(A,p,r)\n",
        "print(A)\n",
        "\n",
        "    \n",
        "        "
      ],
      "metadata": {
        "colab": {
          "base_uri": "https://localhost:8080/"
        },
        "id": "UyK_GaMziYn-",
        "outputId": "5a848892-c3fb-4382-cc4a-6709d0b572cf"
      },
      "execution_count": null,
      "outputs": [
        {
          "output_type": "stream",
          "name": "stdout",
          "text": [
            "[0, 3, 0, 4, 5]\n"
          ]
        }
      ]
    },
    {
      "cell_type": "code",
      "source": [
        "import tensorflow as tf\n",
        "x=tf.constant([[1,3],[2,1]])\n",
        "print(x)\n",
        "print(x.shape)\n",
        "print(x.dtype)\n",
        "print(x.numpy())\n",
        "print(tf.rank(x).numpy())\n",
        "print(tf.add(x,10))\n",
        "print(tf.multiply(x,10))\n",
        "print(x*10)\n",
        "print(x**3)"
      ],
      "metadata": {
        "colab": {
          "base_uri": "https://localhost:8080/"
        },
        "id": "AzOGS2aj31IG",
        "outputId": "71eeb695-0ed8-4a38-c5fd-c32ae5f13269"
      },
      "execution_count": null,
      "outputs": [
        {
          "output_type": "stream",
          "name": "stdout",
          "text": [
            "tf.Tensor(\n",
            "[[1 3]\n",
            " [2 1]], shape=(2, 2), dtype=int32)\n",
            "(2, 2)\n",
            "<dtype: 'int32'>\n",
            "[[1 3]\n",
            " [2 1]]\n",
            "2\n",
            "tf.Tensor(\n",
            "[[11 13]\n",
            " [12 11]], shape=(2, 2), dtype=int32)\n",
            "tf.Tensor(\n",
            "[[10 30]\n",
            " [20 10]], shape=(2, 2), dtype=int32)\n",
            "tf.Tensor(\n",
            "[[10 30]\n",
            " [20 10]], shape=(2, 2), dtype=int32)\n",
            "tf.Tensor(\n",
            "[[ 1 27]\n",
            " [ 8  1]], shape=(2, 2), dtype=int32)\n"
          ]
        }
      ]
    },
    {
      "cell_type": "code",
      "source": [
        "a=tf.constant([[1,2],[3,4]])\n",
        "b=tf.constant([[3,4],[1,2]])\n",
        "print(a*b)\n",
        "print(tf.multiply(a,b))\n",
        "#matrix multiplication dot product\n",
        "print(tf.matmul(a,b))\n",
        "print(a@b)"
      ],
      "metadata": {
        "colab": {
          "base_uri": "https://localhost:8080/"
        },
        "id": "1RqHTr836_rh",
        "outputId": "b701d254-20ec-4c7d-b440-90979a6c0523"
      },
      "execution_count": null,
      "outputs": [
        {
          "output_type": "stream",
          "name": "stdout",
          "text": [
            "tf.Tensor(\n",
            "[[3 8]\n",
            " [3 8]], shape=(2, 2), dtype=int32)\n",
            "tf.Tensor(\n",
            "[[3 8]\n",
            " [3 8]], shape=(2, 2), dtype=int32)\n",
            "tf.Tensor(\n",
            "[[ 5  8]\n",
            " [13 20]], shape=(2, 2), dtype=int32)\n",
            "tf.Tensor(\n",
            "[[ 5  8]\n",
            " [13 20]], shape=(2, 2), dtype=int32)\n"
          ]
        }
      ]
    },
    {
      "cell_type": "code",
      "source": [
        "#special matrix\n",
        "x=tf.zeros((2,2))\n",
        "y=tf.ones((2,2))\n",
        "z=tf.eye(2)\n",
        "print(x)\n",
        "print(y)\n",
        "print(z)"
      ],
      "metadata": {
        "colab": {
          "base_uri": "https://localhost:8080/"
        },
        "id": "KvbLlgva7n13",
        "outputId": "91ab38a6-9853-4d08-fec9-78acd3db3d28"
      },
      "execution_count": null,
      "outputs": [
        {
          "output_type": "stream",
          "name": "stdout",
          "text": [
            "tf.Tensor(\n",
            "[[0. 0.]\n",
            " [0. 0.]], shape=(2, 2), dtype=float32)\n",
            "tf.Tensor(\n",
            "[[1. 1.]\n",
            " [1. 1.]], shape=(2, 2), dtype=float32)\n",
            "tf.Tensor(\n",
            "[[1. 0.]\n",
            " [0. 1.]], shape=(2, 2), dtype=float32)\n"
          ]
        }
      ]
    },
    {
      "cell_type": "code",
      "source": [
        "import tensorflow as tf\n",
        "z=tf.ones((2,3,4,5))\n",
        "\n",
        "print(tf.rank(z).numpy())\n",
        "print(z.shape)\n",
        "print(z.dtype)\n",
        "print(z.ndim)\n",
        "print(tf.size(z).numpy())\n",
        "###############################expand dims\n",
        "z1=tf.expand_dims(z,axis=0)\n",
        "print(z1.shape)\n",
        "\n",
        "####################reduce dims\n",
        "z2=tf.squeeze(z1,axis=0)\n",
        "print(z2.shape)"
      ],
      "metadata": {
        "colab": {
          "base_uri": "https://localhost:8080/"
        },
        "id": "uVUSioFq8LUE",
        "outputId": "130b8d65-8403-43a3-cf4f-6250aa09d083"
      },
      "execution_count": null,
      "outputs": [
        {
          "output_type": "stream",
          "name": "stdout",
          "text": [
            "4\n",
            "(2, 3, 4, 5)\n",
            "<dtype: 'float32'>\n",
            "4\n",
            "120\n",
            "(1, 2, 3, 4, 5)\n",
            "(2, 3, 4, 5)\n"
          ]
        }
      ]
    },
    {
      "cell_type": "code",
      "source": [
        "#RESHAPE AND RESIZE\n",
        "import numpy as np\n",
        "x=np.array([[2,3,4,5,6,7],[0,0,1,2,3,4]])\n",
        "print(x.shape)\n",
        "y=np.reshape(x,(4,3))\n",
        "print(y)\n",
        "z=np.resize(x,(2,30))\n",
        "print(z)\n"
      ],
      "metadata": {
        "colab": {
          "base_uri": "https://localhost:8080/"
        },
        "id": "KZDmkEro94Rq",
        "outputId": "d1797eba-fcfc-483a-ed84-3044eb0c6347"
      },
      "execution_count": null,
      "outputs": [
        {
          "output_type": "stream",
          "name": "stdout",
          "text": [
            "(2, 6)\n",
            "[[2 3 4]\n",
            " [5 6 7]\n",
            " [0 0 1]\n",
            " [2 3 4]]\n",
            "[[2 3 4 5 6 7 0 0 1 2 3 4 2 3 4 5 6 7 0 0 1 2 3 4 2 3 4 5 6 7]\n",
            " [0 0 1 2 3 4 2 3 4 5 6 7 0 0 1 2 3 4 2 3 4 5 6 7 0 0 1 2 3 4]]\n"
          ]
        }
      ]
    },
    {
      "cell_type": "code",
      "source": [
        "x=tf.random.uniform((5,5))\n",
        "print(x.numpy())\n",
        "x=tf.random.normal((5,5))\n",
        "print(x.numpy())\n",
        "print(x.device)"
      ],
      "metadata": {
        "colab": {
          "base_uri": "https://localhost:8080/"
        },
        "id": "TRxS7BOs_UsX",
        "outputId": "342c4129-e755-4458-98b7-dca176d57450"
      },
      "execution_count": null,
      "outputs": [
        {
          "output_type": "stream",
          "name": "stdout",
          "text": [
            "[[0.5991554  0.37781513 0.5604727  0.3616842  0.8381207 ]\n",
            " [0.52383196 0.73754096 0.7127489  0.3328439  0.6897923 ]\n",
            " [0.16674066 0.8373488  0.68553054 0.276744   0.065593  ]\n",
            " [0.9805403  0.05658615 0.19116569 0.90526164 0.20667803]\n",
            " [0.7621666  0.87516785 0.9033228  0.79402256 0.3339883 ]]\n",
            "[[ 0.6771832   1.4691896  -0.31413624  0.16974914 -0.49707055]\n",
            " [ 0.11137953  0.22818123 -0.96477526 -0.05828717  0.06781179]\n",
            " [-0.36713207  0.36549458  1.3350843   1.31784     0.7055536 ]\n",
            " [ 1.4686025   0.61567265  1.1449784  -1.0196801   0.03238351]\n",
            " [-1.1178088  -0.91558397 -0.61197186 -0.70358026  0.99985963]]\n",
            "/job:localhost/replica:0/task:0/device:GPU:0\n"
          ]
        }
      ]
    },
    {
      "cell_type": "code",
      "source": [
        "z=tf.random.uniform((3,3))\n",
        "print(z.numpy())\n",
        "print(tf.reduce_max(z).numpy())\n",
        "print(tf.reduce_max(z,axis=0))  #column wise\n",
        "print(tf.argmax(z))\n",
        "print(tf.argmin(z))\n",
        "print(tf.reduce_sum(z))\n",
        "print(tf.reduce_min(z).numpy())\n",
        "print(tf.reduce_max(z).numpy())\n",
        "print(tf.square(z))\n"
      ],
      "metadata": {
        "colab": {
          "base_uri": "https://localhost:8080/"
        },
        "id": "ChRPz5rW_yq2",
        "outputId": "81561158-db39-4fda-f8bd-a30ddf97c09b"
      },
      "execution_count": null,
      "outputs": [
        {
          "output_type": "stream",
          "name": "stdout",
          "text": [
            "[[0.42126966 0.6721033  0.08740389]\n",
            " [0.79513776 0.16590548 0.51472235]\n",
            " [0.8483776  0.9878596  0.773157  ]]\n",
            "0.9878596\n",
            "tf.Tensor([0.8483776 0.9878596 0.773157 ], shape=(3,), dtype=float32)\n",
            "tf.Tensor([2 2 2], shape=(3,), dtype=int64)\n",
            "tf.Tensor([0 1 0], shape=(3,), dtype=int64)\n",
            "tf.Tensor(5.265937, shape=(), dtype=float32)\n",
            "0.08740389\n",
            "0.9878596\n",
            "tf.Tensor(\n",
            "[[0.17746812 0.45172283 0.00763944]\n",
            " [0.63224405 0.02752463 0.2649391 ]\n",
            " [0.7197445  0.9758666  0.59777176]], shape=(3, 3), dtype=float32)\n"
          ]
        }
      ]
    },
    {
      "cell_type": "code",
      "source": [
        "###############3 NN Activation\n",
        "z=tf.random.uniform((3,3))\n",
        "print(tf.nn.softmax(z))\n",
        "print(tf.nn.sigmoid(z))\n",
        "print(tf.nn.relu(z))"
      ],
      "metadata": {
        "colab": {
          "base_uri": "https://localhost:8080/"
        },
        "id": "dZ2vDkO7CK8S",
        "outputId": "70245357-4958-44c1-bbaf-901805995c20"
      },
      "execution_count": null,
      "outputs": [
        {
          "output_type": "stream",
          "name": "stdout",
          "text": [
            "tf.Tensor(\n",
            "[[0.28919718 0.34530124 0.36550158]\n",
            " [0.35606766 0.3596233  0.284309  ]\n",
            " [0.41561362 0.30260056 0.28178582]], shape=(3, 3), dtype=float32)\n",
            "tf.Tensor(\n",
            "[[0.67359674 0.7113206  0.72285336]\n",
            " [0.7239885  0.7259696  0.676837  ]\n",
            " [0.7127624  0.64370835 0.62720156]], shape=(3, 3), dtype=float32)\n",
            "tf.Tensor(\n",
            "[[0.72449803 0.9018065  0.9586599 ]\n",
            " [0.96433294 0.9742693  0.7392738 ]\n",
            " [0.90883875 0.59149635 0.52023005]], shape=(3, 3), dtype=float32)\n"
          ]
        }
      ]
    },
    {
      "cell_type": "code",
      "source": [
        "z=tf.constant([[1,2,3],[3,4,5],[5,6,7]])\n",
        "print(z[:,1].numpy())\n",
        "print(z[2,:].numpy())\n",
        "print(z[:,0:2].numpy())"
      ],
      "metadata": {
        "colab": {
          "base_uri": "https://localhost:8080/"
        },
        "id": "h4OmpwfSCwnr",
        "outputId": "2941d248-227a-4931-cea4-65bf3b8a2029"
      },
      "execution_count": null,
      "outputs": [
        {
          "output_type": "stream",
          "name": "stdout",
          "text": [
            "[2 4 6]\n",
            "[5 6 7]\n",
            "[[1 2]\n",
            " [3 4]\n",
            " [5 6]]\n"
          ]
        }
      ]
    },
    {
      "cell_type": "code",
      "source": [],
      "metadata": {
        "id": "R-1TIAYmFBCt"
      },
      "execution_count": null,
      "outputs": []
    },
    {
      "cell_type": "code",
      "source": [
        "z=[[1,2,3,4],[2,3],[1],[1,2,3]]\n",
        "print(z)\n",
        "x=tf.ragged.constant(z)\n",
        "print(x)"
      ],
      "metadata": {
        "colab": {
          "base_uri": "https://localhost:8080/"
        },
        "id": "GaNKyEC7DspO",
        "outputId": "d8dbbe8e-fc9d-4d7b-9399-8b96929f2ff1"
      },
      "execution_count": null,
      "outputs": [
        {
          "output_type": "stream",
          "name": "stdout",
          "text": [
            "[[1, 2, 3, 4], [2, 3], [1], [1, 2, 3]]\n",
            "<tf.RaggedTensor [[1, 2, 3, 4], [2, 3], [1], [1, 2, 3]]>\n"
          ]
        }
      ]
    },
    {
      "cell_type": "code",
      "source": [
        "z=tf.sparse.SparseTensor(indices=[[1,1],[3,9]],values=[1,1],dense_shape=[10,10])\n",
        "print(z)\n",
        "print(tf.sparse.to_dense(z))"
      ],
      "metadata": {
        "colab": {
          "base_uri": "https://localhost:8080/"
        },
        "id": "6myfS41xFC48",
        "outputId": "b35d647f-595c-464b-c406-a204edc2f70c"
      },
      "execution_count": null,
      "outputs": [
        {
          "output_type": "stream",
          "name": "stdout",
          "text": [
            "SparseTensor(indices=tf.Tensor(\n",
            "[[1 1]\n",
            " [3 9]], shape=(2, 2), dtype=int64), values=tf.Tensor([1 1], shape=(2,), dtype=int32), dense_shape=tf.Tensor([10 10], shape=(2,), dtype=int64))\n",
            "tf.Tensor(\n",
            "[[0 0 0 0 0 0 0 0 0 0]\n",
            " [0 1 0 0 0 0 0 0 0 0]\n",
            " [0 0 0 0 0 0 0 0 0 0]\n",
            " [0 0 0 0 0 0 0 0 0 1]\n",
            " [0 0 0 0 0 0 0 0 0 0]\n",
            " [0 0 0 0 0 0 0 0 0 0]\n",
            " [0 0 0 0 0 0 0 0 0 0]\n",
            " [0 0 0 0 0 0 0 0 0 0]\n",
            " [0 0 0 0 0 0 0 0 0 0]\n",
            " [0 0 0 0 0 0 0 0 0 0]], shape=(10, 10), dtype=int32)\n"
          ]
        }
      ]
    },
    {
      "cell_type": "code",
      "source": [
        "##########string\n",
        "import tensorflow as tf\n",
        "z=tf.constant('Abc Defgh ijkl')\n",
        "print(z)\n",
        "z1=tf.strings.split(z,sep=' ')\n",
        "print(z1)\n",
        "z2=tf.strings.join(z1,separator=' ')\n",
        "print(z2)"
      ],
      "metadata": {
        "id": "ZI_wZSDIhIfM"
      },
      "execution_count": null,
      "outputs": []
    },
    {
      "cell_type": "code",
      "source": [
        "import tensorflow as tf\n",
        "z=tf.constant('Abc Defgh ijkl')\n",
        "print(z)"
      ],
      "metadata": {
        "colab": {
          "base_uri": "https://localhost:8080/"
        },
        "id": "CUYzqo_TiDBN",
        "outputId": "3657b2f8-c7a7-4ce8-c04e-6d0b0e35595f"
      },
      "execution_count": null,
      "outputs": [
        {
          "output_type": "stream",
          "name": "stdout",
          "text": [
            "tf.Tensor(b'Abc Defgh ijkl', shape=(), dtype=string)\n"
          ]
        }
      ]
    },
    {
      "cell_type": "code",
      "source": [
        "z1=tf.strings.split(z,sep=' ')\n",
        "print(z1)"
      ],
      "metadata": {
        "colab": {
          "base_uri": "https://localhost:8080/"
        },
        "id": "vDahJhj-iQlT",
        "outputId": "1bb6a3e7-183a-46da-baef-7540f77a448c"
      },
      "execution_count": null,
      "outputs": [
        {
          "output_type": "stream",
          "name": "stdout",
          "text": [
            "tf.Tensor([b'Abc' b'Defgh' b'ijkl'], shape=(3,), dtype=string)\n"
          ]
        }
      ]
    },
    {
      "cell_type": "code",
      "source": [
        "z2=tf.strings.join(z1,separator=' ')\n",
        "print(z2)"
      ],
      "metadata": {
        "colab": {
          "base_uri": "https://localhost:8080/"
        },
        "id": "_KqMJoztibfU",
        "outputId": "45bde20e-aff8-4581-da91-c2cea983693e"
      },
      "execution_count": null,
      "outputs": [
        {
          "output_type": "stream",
          "name": "stdout",
          "text": [
            "tf.Tensor(b'Abc Defgh ijkl', shape=(), dtype=string)\n"
          ]
        }
      ]
    },
    {
      "cell_type": "code",
      "source": [
        "a=tf.constant(['abc','def ghi','manjeet singht man','pareshi goel'])\n",
        "print(a)\n",
        "b=tf.strings.split(a,sep=' ')   #Ragged tensor\n",
        "print(b)\n",
        "print(tf.strings.length(b))"
      ],
      "metadata": {
        "colab": {
          "base_uri": "https://localhost:8080/"
        },
        "id": "7vqTetvfiwP4",
        "outputId": "f5411191-2a92-47c6-9b32-d79191b3df68"
      },
      "execution_count": null,
      "outputs": [
        {
          "output_type": "stream",
          "name": "stdout",
          "text": [
            "tf.Tensor([b'abc' b'def ghi' b'manjeet singht man' b'pareshi goel'], shape=(4,), dtype=string)\n",
            "<tf.RaggedTensor [[b'abc'], [b'def', b'ghi'], [b'manjeet', b'singht', b'man'],\n",
            " [b'pareshi', b'goel']]>\n",
            "<tf.RaggedTensor [[3], [3, 3], [7, 6, 3], [7, 4]]>\n"
          ]
        }
      ]
    },
    {
      "cell_type": "code",
      "source": [
        "test=tf.constant('10 20 30 40 50 60 70 80')\n",
        "a=tf.strings.to_number(tf.strings.split(test,sep=' '))\n",
        "print(a)\n",
        "print(tf.reduce_sum(a))"
      ],
      "metadata": {
        "colab": {
          "base_uri": "https://localhost:8080/"
        },
        "id": "t8OV4h__kD35",
        "outputId": "5d276c77-658c-4a8e-cc4e-db77b2e90f75"
      },
      "execution_count": null,
      "outputs": [
        {
          "output_type": "stream",
          "name": "stdout",
          "text": [
            "tf.Tensor([10. 20. 30. 40. 50. 60. 70. 80.], shape=(8,), dtype=float32)\n",
            "tf.Tensor(360.0, shape=(), dtype=float32)\n"
          ]
        }
      ]
    },
    {
      "cell_type": "code",
      "source": [
        "b=tf.constant('abc def ghijkl')\n",
        "print(tf.strings.length(b))\n",
        "c=tf.strings.split()"
      ],
      "metadata": {
        "id": "LyMN2_y2k9Hx"
      },
      "execution_count": null,
      "outputs": []
    },
    {
      "cell_type": "code",
      "source": [
        "print(tf.strings.regex_replace(\"Text with tags.<br /><b>contains html</b>\",\"<[^>]+>\",\" \"))"
      ],
      "metadata": {
        "colab": {
          "base_uri": "https://localhost:8080/"
        },
        "id": "dfPUW2TKlZQf",
        "outputId": "5bdc147d-9abb-43d4-ed34-bb666c0c3665"
      },
      "execution_count": null,
      "outputs": [
        {
          "output_type": "stream",
          "name": "stdout",
          "text": [
            "tf.Tensor(b'Text with tags.  contains html ', shape=(), dtype=string)\n"
          ]
        }
      ]
    },
    {
      "cell_type": "code",
      "source": [
        "import tensorflow as tf\n",
        "tf.debugging.set_log_device_placement(True)\n",
        "a=tf.Variable([3+2j,5-6j])\n",
        "print(a.device)\n",
        "print(a.shape)\n",
        "print(a.dtype)\n",
        "print(a.numpy())\n",
        "print(a)\n",
        "print(tf.convert_to_tensor(a))"
      ],
      "metadata": {
        "colab": {
          "base_uri": "https://localhost:8080/"
        },
        "id": "LlL2qM-RmZji",
        "outputId": "344bba94-d6c5-4b83-c7dc-f16c4bd2d1fb"
      },
      "execution_count": null,
      "outputs": [
        {
          "output_type": "stream",
          "name": "stdout",
          "text": [
            "/job:localhost/replica:0/task:0/device:GPU:0\n",
            "(2,)\n",
            "<dtype: 'complex128'>\n",
            "[3.+2.j 5.-6.j]\n",
            "<tf.Variable 'Variable:0' shape=(2,) dtype=complex128, numpy=array([3.+2.j, 5.-6.j])>\n",
            "tf.Tensor([3.+2.j 5.-6.j], shape=(2,), dtype=complex128)\n"
          ]
        }
      ]
    },
    {
      "cell_type": "code",
      "source": [
        "x=30\n",
        "y=30\n",
        "print(x==y)\n",
        "print(id(x)==id(y))\n",
        "\n",
        "#### tensorflow\n",
        "a=tf.Variable(30)\n",
        "b=tf.Variable(30)\n",
        "print(a==b)\n",
        "print(id(a)==id(b))"
      ],
      "metadata": {
        "colab": {
          "base_uri": "https://localhost:8080/"
        },
        "id": "0WiUBUr5nkQ1",
        "outputId": "05d956ca-e067-4dc2-d25f-0d654887d81a"
      },
      "execution_count": null,
      "outputs": [
        {
          "output_type": "stream",
          "name": "stdout",
          "text": [
            "True\n",
            "True\n",
            "tf.Tensor(True, shape=(), dtype=bool)\n",
            "False\n"
          ]
        }
      ]
    },
    {
      "cell_type": "markdown",
      "source": [
        "WAP to implement linear model/ linear regression using tensorflow.\n",
        "Y=W*"
      ],
      "metadata": {
        "id": "ChnA7HXFjSLd"
      }
    },
    {
      "cell_type": "markdown",
      "source": [
        "Y=W*X+B Weight updation rule: Delta/Window hoff Rule/ SGD new W=OLD W- learning rate*dervative of cost w.r.t W Cost=MSE= mean(square(target-output))"
      ],
      "metadata": {
        "id": "uZbUnafpjzOE"
      }
    },
    {
      "cell_type": "code",
      "source": [
        "import tensorflow as tf\n",
        "class Model(object):\n",
        "  def __init__(self):\n",
        "    self.w=tf.Variable(5.0)   #W=5\n",
        "    self.b=tf.Variable(10.0)   #B=10\n",
        "\n",
        "  def __call__(self,x):\n",
        "    return self.w*x+self.b\n",
        "\n",
        "model=Model()\n",
        "y=model(3)\n",
        "print(y.numpy())"
      ],
      "metadata": {
        "id": "-sOzhn9_kVbr",
        "colab": {
          "base_uri": "https://localhost:8080/"
        },
        "outputId": "4738807e-f1c6-4f02-b841-f2c42937c147"
      },
      "execution_count": null,
      "outputs": [
        {
          "output_type": "stream",
          "name": "stdout",
          "text": [
            "25.0\n"
          ]
        }
      ]
    },
    {
      "cell_type": "code",
      "source": [
        "def loss(target_y, predected_y):\n",
        "  return tf.reduce_mean(tf.square(target_y-predected_y))"
      ],
      "metadata": {
        "id": "8E8fY_93kq4X"
      },
      "execution_count": null,
      "outputs": []
    },
    {
      "cell_type": "code",
      "source": [
        "num_samples=1000\n",
        "inputs=tf.random.normal(shape=[num_samples])\n",
        "noise=tf.random.normal(shape=[num_samples])\n",
        "true_w=20\n",
        "true_b=2\n",
        "target=true_w*inputs+true_b+noise\n",
        "\n",
        "#######################################\n",
        "\n",
        "import matplotlib.pyplot as plt\n",
        "plt.scatter(inputs,target,c='r')\n",
        "plt.scatter(inputs,model(inputs),c='b')\n",
        "plt.show()\n",
        "print('loss= ', loss(target,model(inputs)).numpy())"
      ],
      "metadata": {
        "colab": {
          "base_uri": "https://localhost:8080/",
          "height": 284
        },
        "id": "z425Lp6Vo6IL",
        "outputId": "efa58d58-76af-4500-e33c-821731ce9f6a"
      },
      "execution_count": null,
      "outputs": [
        {
          "output_type": "display_data",
          "data": {
            "text/plain": [
              "<Figure size 432x288 with 1 Axes>"
            ],
            "image/png": "[encoded data removed]"
          },
          "metadata": {
            "needs_background": "light"
          }
        },
        {
          "output_type": "stream",
          "name": "stdout",
          "text": [
            "loss=  279.84097\n"
          ]
        }
      ]
    },
    {
      "cell_type": "code",
      "source": [
        "def train(model,inputs,target,learning_rate):\n",
        "  with tf.GradientTape() as T:                  \n",
        "    current_loss=loss(target,model(inputs))\n",
        "  dw,db=T.gradient(current_loss,[model.w,model.b])\n",
        "  model.w.assign_sub(learning_rate*dw) # model.w= model.w- lr*dw\n",
        "  model.b.assign_sub(learning_rate*db)"
      ],
      "metadata": {
        "id": "HVKakHwnp1ev"
      },
      "execution_count": null,
      "outputs": []
    },
    {
      "cell_type": "code",
      "source": [
        "model=Model()\n",
        "ws,bs=[],[]\n",
        "epochs=range(500)\n",
        "for epoch in epochs:\n",
        "  ws.append(model.w.numpy())\n",
        "  bs.append(model.b.numpy())\n",
        "  current_loss=loss(target,model(inputs))\n",
        "  train(model,inputs,target,learning_rate=0.01)\n",
        "  print(\"Epoch=%d,W=%f,b=%f,loss=%f\"%(epoch,ws[-1],bs[-1],current_loss))"
      ],
      "metadata": {
        "colab": {
          "base_uri": "https://localhost:8080/"
        },
        "id": "Ehm6FexLsSq3",
        "outputId": "ca36b85c-4130-4ca3-9372-8d660199bada"
      },
      "execution_count": null,
      "outputs": [
        {
          "output_type": "stream",
          "name": "stdout",
          "text": [
            "Epoch=0,W=5.000000,b=10.000000,loss=279.840973\n",
            "Epoch=1,W=5.290275,b=9.847230,loss=269.184967\n",
            "Epoch=2,W=5.574931,b=9.697374,loss=258.936218\n",
            "Epoch=3,W=5.854076,b=9.550377,loss=249.079224\n",
            "Epoch=4,W=6.127819,b=9.406183,loss=239.598862\n",
            "Epoch=5,W=6.396263,b=9.264740,loss=230.480881\n",
            "Epoch=6,W=6.659510,b=9.125995,loss=221.711349\n",
            "Epoch=7,W=6.917662,b=8.989896,loss=213.276962\n",
            "Epoch=8,W=7.170817,b=8.856393,loss=205.164917\n",
            "Epoch=9,W=7.419072,b=8.725436,loss=197.362930\n",
            "Epoch=10,W=7.662522,b=8.596978,loss=189.859100\n",
            "Epoch=11,W=7.901259,b=8.470970,loss=182.642059\n",
            "Epoch=12,W=8.135376,b=8.347366,loss=175.700821\n",
            "Epoch=13,W=8.364961,b=8.226120,loss=169.024902\n",
            "Epoch=14,W=8.590101,b=8.107187,loss=162.604095\n",
            "Epoch=15,W=8.810884,b=7.990523,loss=156.428665\n",
            "Epoch=16,W=9.027394,b=7.876084,loss=150.489288\n",
            "Epoch=17,W=9.239714,b=7.763829,loss=144.776855\n",
            "Epoch=18,W=9.447923,b=7.653715,loss=139.282761\n",
            "Epoch=19,W=9.652102,b=7.545702,loss=133.998627\n",
            "Epoch=20,W=9.852330,b=7.439750,loss=128.916443\n",
            "Epoch=21,W=10.048682,b=7.335819,loss=124.028488\n",
            "Epoch=22,W=10.241234,b=7.233871,loss=119.327332\n",
            "Epoch=23,W=10.430058,b=7.133867,loss=114.805847\n",
            "Epoch=24,W=10.615228,b=7.035772,loss=110.457153\n",
            "Epoch=25,W=10.796813,b=6.939549,loss=106.274704\n",
            "Epoch=26,W=10.974884,b=6.845161,loss=102.252029\n",
            "Epoch=27,W=11.149508,b=6.752575,loss=98.383133\n",
            "Epoch=28,W=11.320753,b=6.661755,loss=94.662079\n",
            "Epoch=29,W=11.488684,b=6.572668,loss=91.083237\n",
            "Epoch=30,W=11.653363,b=6.485280,loss=87.641159\n",
            "Epoch=31,W=11.814856,b=6.399560,loss=84.330643\n",
            "Epoch=32,W=11.973223,b=6.315476,loss=81.146614\n",
            "Epoch=33,W=12.128525,b=6.232996,loss=78.084297\n",
            "Epoch=34,W=12.280821,b=6.152090,loss=75.139008\n",
            "Epoch=35,W=12.430169,b=6.072728,loss=72.306267\n",
            "Epoch=36,W=12.576627,b=5.994881,loss=69.581795\n",
            "Epoch=37,W=12.720250,b=5.918519,loss=66.961449\n",
            "Epoch=38,W=12.861094,b=5.843614,loss=64.441223\n",
            "Epoch=39,W=12.999211,b=5.770138,loss=62.017323\n",
            "Epoch=40,W=13.134656,b=5.698065,loss=59.686054\n",
            "Epoch=41,W=13.267479,b=5.627367,loss=57.443878\n",
            "Epoch=42,W=13.397732,b=5.558018,loss=55.287392\n",
            "Epoch=43,W=13.525463,b=5.489993,loss=53.213322\n",
            "Epoch=44,W=13.650723,b=5.423266,loss=51.218498\n",
            "Epoch=45,W=13.773558,b=5.357812,loss=49.299931\n",
            "Epoch=46,W=13.894015,b=5.293608,loss=47.454674\n",
            "Epoch=47,W=14.012142,b=5.230628,loss=45.679935\n",
            "Epoch=48,W=14.127982,b=5.168851,loss=43.973022\n",
            "Epoch=49,W=14.241581,b=5.108253,loss=42.331341\n",
            "Epoch=50,W=14.352981,b=5.048812,loss=40.752396\n",
            "Epoch=51,W=14.462225,b=4.990505,loss=39.233788\n",
            "Epoch=52,W=14.569355,b=4.933311,loss=37.773220\n",
            "Epoch=53,W=14.674412,b=4.877208,loss=36.368462\n",
            "Epoch=54,W=14.777435,b=4.822176,loss=35.017391\n",
            "Epoch=55,W=14.878465,b=4.768195,loss=33.717960\n",
            "Epoch=56,W=14.977539,b=4.715244,loss=32.468178\n",
            "Epoch=57,W=15.074696,b=4.663304,loss=31.266167\n",
            "Epoch=58,W=15.169972,b=4.612355,loss=30.110088\n",
            "Epoch=59,W=15.263405,b=4.562379,loss=28.998188\n",
            "Epoch=60,W=15.355029,b=4.513357,loss=27.928787\n",
            "Epoch=61,W=15.444880,b=4.465270,loss=26.900242\n",
            "Epoch=62,W=15.532993,b=4.418101,loss=25.911005\n",
            "Epoch=63,W=15.619401,b=4.371833,loss=24.959570\n",
            "Epoch=64,W=15.704136,b=4.326448,loss=24.044504\n",
            "Epoch=65,W=15.787231,b=4.281929,loss=23.164400\n",
            "Epoch=66,W=15.868719,b=4.238261,loss=22.317930\n",
            "Epoch=67,W=15.948629,b=4.195426,loss=21.503811\n",
            "Epoch=68,W=16.026993,b=4.153408,loss=20.720806\n",
            "Epoch=69,W=16.103840,b=4.112193,loss=19.967720\n",
            "Epoch=70,W=16.179199,b=4.071764,loss=19.243420\n",
            "Epoch=71,W=16.253101,b=4.032107,loss=18.546789\n",
            "Epoch=72,W=16.325573,b=3.993208,loss=17.876785\n",
            "Epoch=73,W=16.396643,b=3.955051,loss=17.232380\n",
            "Epoch=74,W=16.466337,b=3.917623,loss=16.612600\n",
            "Epoch=75,W=16.534683,b=3.880909,loss=16.016504\n",
            "Epoch=76,W=16.601706,b=3.844896,loss=15.443196\n",
            "Epoch=77,W=16.667431,b=3.809571,loss=14.891792\n",
            "Epoch=78,W=16.731884,b=3.774920,loss=14.361465\n",
            "Epoch=79,W=16.795090,b=3.740931,loss=13.851406\n",
            "Epoch=80,W=16.857073,b=3.707590,loss=13.360836\n",
            "Epoch=81,W=16.917856,b=3.674887,loss=12.889013\n",
            "Epoch=82,W=16.977465,b=3.642807,loss=12.435213\n",
            "Epoch=83,W=17.035919,b=3.611341,loss=11.998757\n",
            "Epoch=84,W=17.093243,b=3.580475,loss=11.578981\n",
            "Epoch=85,W=17.149456,b=3.550198,loss=11.175249\n",
            "Epoch=86,W=17.204582,b=3.520500,loss=10.786945\n",
            "Epoch=87,W=17.258642,b=3.491369,loss=10.413475\n",
            "Epoch=88,W=17.311655,b=3.462793,loss=10.054281\n",
            "Epoch=89,W=17.363642,b=3.434764,loss=9.708816\n",
            "Epoch=90,W=17.414623,b=3.407270,loss=9.376549\n",
            "Epoch=91,W=17.464619,b=3.380301,loss=9.056976\n",
            "Epoch=92,W=17.513645,b=3.353846,loss=8.749622\n",
            "Epoch=93,W=17.561724,b=3.327897,loss=8.454013\n",
            "Epoch=94,W=17.608871,b=3.302444,loss=8.169700\n",
            "Epoch=95,W=17.655107,b=3.277476,loss=7.896248\n",
            "Epoch=96,W=17.700449,b=3.252986,loss=7.633246\n",
            "Epoch=97,W=17.744913,b=3.228963,loss=7.380295\n",
            "Epoch=98,W=17.788517,b=3.205399,loss=7.137009\n",
            "Epoch=99,W=17.831278,b=3.182285,loss=6.903017\n",
            "Epoch=100,W=17.873211,b=3.159612,loss=6.677969\n",
            "Epoch=101,W=17.914331,b=3.137372,loss=6.461524\n",
            "Epoch=102,W=17.954657,b=3.115557,loss=6.253349\n",
            "Epoch=103,W=17.994202,b=3.094159,loss=6.053129\n",
            "Epoch=104,W=18.032982,b=3.073169,loss=5.860560\n",
            "Epoch=105,W=18.071011,b=3.052581,loss=5.675353\n",
            "Epoch=106,W=18.108305,b=3.032385,loss=5.497217\n",
            "Epoch=107,W=18.144876,b=3.012576,loss=5.325893\n",
            "Epoch=108,W=18.180740,b=2.993144,loss=5.161118\n",
            "Epoch=109,W=18.215910,b=2.974084,loss=5.002638\n",
            "Epoch=110,W=18.250401,b=2.955388,loss=4.850209\n",
            "Epoch=111,W=18.284224,b=2.937048,loss=4.703607\n",
            "Epoch=112,W=18.317392,b=2.919060,loss=4.562605\n",
            "Epoch=113,W=18.349918,b=2.901414,loss=4.426996\n",
            "Epoch=114,W=18.381815,b=2.884106,loss=4.296567\n",
            "Epoch=115,W=18.413095,b=2.867129,loss=4.171120\n",
            "Epoch=116,W=18.443769,b=2.850475,loss=4.050471\n",
            "Epoch=117,W=18.473850,b=2.834140,loss=3.934431\n",
            "Epoch=118,W=18.503349,b=2.818117,loss=3.822824\n",
            "Epoch=119,W=18.532278,b=2.802400,loss=3.715481\n",
            "Epoch=120,W=18.560646,b=2.786983,loss=3.612243\n",
            "Epoch=121,W=18.588467,b=2.771861,loss=3.512944\n",
            "Epoch=122,W=18.615747,b=2.757027,loss=3.417445\n",
            "Epoch=123,W=18.642502,b=2.742477,loss=3.325593\n",
            "Epoch=124,W=18.668737,b=2.728205,loss=3.237251\n",
            "Epoch=125,W=18.694466,b=2.714206,loss=3.152286\n",
            "Epoch=126,W=18.719696,b=2.700474,loss=3.070568\n",
            "Epoch=127,W=18.744438,b=2.687004,loss=2.991972\n",
            "Epoch=128,W=18.768702,b=2.673791,loss=2.916380\n",
            "Epoch=129,W=18.792496,b=2.660831,loss=2.843675\n",
            "Epoch=130,W=18.815830,b=2.648119,loss=2.773747\n",
            "Epoch=131,W=18.838713,b=2.635649,loss=2.706493\n",
            "Epoch=132,W=18.861153,b=2.623418,loss=2.641808\n",
            "Epoch=133,W=18.883158,b=2.611421,loss=2.579596\n",
            "Epoch=134,W=18.904737,b=2.599652,loss=2.519761\n",
            "Epoch=135,W=18.925900,b=2.588109,loss=2.462213\n",
            "Epoch=136,W=18.946651,b=2.576786,loss=2.406865\n",
            "Epoch=137,W=18.967003,b=2.565679,loss=2.353630\n",
            "Epoch=138,W=18.986961,b=2.554785,loss=2.302428\n",
            "Epoch=139,W=19.006533,b=2.544099,loss=2.253184\n",
            "Epoch=140,W=19.025726,b=2.533617,loss=2.205820\n",
            "Epoch=141,W=19.044548,b=2.523335,loss=2.160266\n",
            "Epoch=142,W=19.063005,b=2.513249,loss=2.116454\n",
            "Epoch=143,W=19.081106,b=2.503357,loss=2.074316\n",
            "Epoch=144,W=19.098856,b=2.493653,loss=2.033789\n",
            "Epoch=145,W=19.116262,b=2.484135,loss=1.994810\n",
            "Epoch=146,W=19.133333,b=2.474799,loss=1.957319\n",
            "Epoch=147,W=19.150072,b=2.465641,loss=1.921264\n",
            "Epoch=148,W=19.166489,b=2.456658,loss=1.886583\n",
            "Epoch=149,W=19.182587,b=2.447847,loss=1.853229\n",
            "Epoch=150,W=19.198374,b=2.439204,loss=1.821149\n",
            "Epoch=151,W=19.213856,b=2.430726,loss=1.790294\n",
            "Epoch=152,W=19.229038,b=2.422410,loss=1.760618\n",
            "Epoch=153,W=19.243927,b=2.414253,loss=1.732077\n",
            "Epoch=154,W=19.258528,b=2.406253,loss=1.704626\n",
            "Epoch=155,W=19.272844,b=2.398405,loss=1.678226\n",
            "Epoch=156,W=19.286884,b=2.390707,loss=1.652835\n",
            "Epoch=157,W=19.300653,b=2.383156,loss=1.628412\n",
            "Epoch=158,W=19.314156,b=2.375749,loss=1.604924\n",
            "Epoch=159,W=19.327396,b=2.368484,loss=1.582333\n",
            "Epoch=160,W=19.340382,b=2.361357,loss=1.560604\n",
            "Epoch=161,W=19.353115,b=2.354367,loss=1.539708\n",
            "Epoch=162,W=19.365602,b=2.347511,loss=1.519608\n",
            "Epoch=163,W=19.377848,b=2.340786,loss=1.500278\n",
            "Epoch=164,W=19.389856,b=2.334189,loss=1.481686\n",
            "Epoch=165,W=19.401632,b=2.327718,loss=1.463804\n",
            "Epoch=166,W=19.413181,b=2.321371,loss=1.446605\n",
            "Epoch=167,W=19.424507,b=2.315145,loss=1.430063\n",
            "Epoch=168,W=19.435614,b=2.309038,loss=1.414153\n",
            "Epoch=169,W=19.446505,b=2.303048,loss=1.398852\n",
            "Epoch=170,W=19.457186,b=2.297172,loss=1.384135\n",
            "Epoch=171,W=19.467661,b=2.291409,loss=1.369979\n",
            "Epoch=172,W=19.477932,b=2.285756,loss=1.356366\n",
            "Epoch=173,W=19.488005,b=2.280211,loss=1.343272\n",
            "Epoch=174,W=19.497883,b=2.274772,loss=1.330679\n",
            "Epoch=175,W=19.507570,b=2.269437,loss=1.318566\n",
            "Epoch=176,W=19.517071,b=2.264204,loss=1.306916\n",
            "Epoch=177,W=19.526386,b=2.259070,loss=1.295712\n",
            "Epoch=178,W=19.535522,b=2.254035,loss=1.284936\n",
            "Epoch=179,W=19.544481,b=2.249097,loss=1.274571\n",
            "Epoch=180,W=19.553267,b=2.244252,loss=1.264603\n",
            "Epoch=181,W=19.561882,b=2.239501,loss=1.255016\n",
            "Epoch=182,W=19.570332,b=2.234840,loss=1.245794\n",
            "Epoch=183,W=19.578617,b=2.230268,loss=1.236926\n",
            "Epoch=184,W=19.586742,b=2.225783,loss=1.228396\n",
            "Epoch=185,W=19.594711,b=2.221385,loss=1.220191\n",
            "Epoch=186,W=19.602526,b=2.217070,loss=1.212300\n",
            "Epoch=187,W=19.610188,b=2.212838,loss=1.204712\n",
            "Epoch=188,W=19.617702,b=2.208686,loss=1.197413\n",
            "Epoch=189,W=19.625072,b=2.204614,loss=1.190392\n",
            "Epoch=190,W=19.632299,b=2.200620,loss=1.183640\n",
            "Epoch=191,W=19.639387,b=2.196703,loss=1.177145\n",
            "Epoch=192,W=19.646338,b=2.192860,loss=1.170899\n",
            "Epoch=193,W=19.653152,b=2.189090,loss=1.164893\n",
            "Epoch=194,W=19.659836,b=2.185393,loss=1.159115\n",
            "Epoch=195,W=19.666389,b=2.181767,loss=1.153559\n",
            "Epoch=196,W=19.672817,b=2.178210,loss=1.148214\n",
            "Epoch=197,W=19.679121,b=2.174720,loss=1.143073\n",
            "Epoch=198,W=19.685303,b=2.171298,loss=1.138129\n",
            "Epoch=199,W=19.691364,b=2.167941,loss=1.133374\n",
            "Epoch=200,W=19.697308,b=2.164648,loss=1.128801\n",
            "Epoch=201,W=19.703136,b=2.161418,loss=1.124403\n",
            "Epoch=202,W=19.708853,b=2.158250,loss=1.120173\n",
            "Epoch=203,W=19.714458,b=2.155142,loss=1.116104\n",
            "Epoch=204,W=19.719955,b=2.152094,loss=1.112191\n",
            "Epoch=205,W=19.725348,b=2.149104,loss=1.108427\n",
            "Epoch=206,W=19.730635,b=2.146171,loss=1.104807\n",
            "Epoch=207,W=19.735819,b=2.143295,loss=1.101326\n",
            "Epoch=208,W=19.740904,b=2.140473,loss=1.097977\n",
            "Epoch=209,W=19.745890,b=2.137705,loss=1.094756\n",
            "Epoch=210,W=19.750780,b=2.134990,loss=1.091658\n",
            "Epoch=211,W=19.755575,b=2.132328,loss=1.088679\n",
            "Epoch=212,W=19.760277,b=2.129716,loss=1.085814\n",
            "Epoch=213,W=19.764889,b=2.127154,loss=1.083057\n",
            "Epoch=214,W=19.769411,b=2.124641,loss=1.080407\n",
            "Epoch=215,W=19.773846,b=2.122176,loss=1.077857\n",
            "Epoch=216,W=19.778194,b=2.119758,loss=1.075405\n",
            "Epoch=217,W=19.782459,b=2.117386,loss=1.073047\n",
            "Epoch=218,W=19.786642,b=2.115060,loss=1.070779\n",
            "Epoch=219,W=19.790743,b=2.112778,loss=1.068598\n",
            "Epoch=220,W=19.794765,b=2.110540,loss=1.066499\n",
            "Epoch=221,W=19.798710,b=2.108345,loss=1.064481\n",
            "Epoch=222,W=19.802578,b=2.106192,loss=1.062540\n",
            "Epoch=223,W=19.806372,b=2.104079,loss=1.060674\n",
            "Epoch=224,W=19.810091,b=2.102008,loss=1.058878\n",
            "Epoch=225,W=19.813738,b=2.099976,loss=1.057152\n",
            "Epoch=226,W=19.817314,b=2.097982,loss=1.055491\n",
            "Epoch=227,W=19.820822,b=2.096027,loss=1.053894\n",
            "Epoch=228,W=19.824263,b=2.094110,loss=1.052358\n",
            "Epoch=229,W=19.827637,b=2.092228,loss=1.050880\n",
            "Epoch=230,W=19.830946,b=2.090383,loss=1.049459\n",
            "Epoch=231,W=19.834190,b=2.088573,loss=1.048092\n",
            "Epoch=232,W=19.837372,b=2.086798,loss=1.046777\n",
            "Epoch=233,W=19.840492,b=2.085057,loss=1.045513\n",
            "Epoch=234,W=19.843552,b=2.083349,loss=1.044297\n",
            "Epoch=235,W=19.846552,b=2.081674,loss=1.043127\n",
            "Epoch=236,W=19.849495,b=2.080030,loss=1.042002\n",
            "Epoch=237,W=19.852381,b=2.078419,loss=1.040920\n",
            "Epoch=238,W=19.855211,b=2.076838,loss=1.039879\n",
            "Epoch=239,W=19.857986,b=2.075287,loss=1.038879\n",
            "Epoch=240,W=19.860708,b=2.073766,loss=1.037916\n",
            "Epoch=241,W=19.863377,b=2.072274,loss=1.036990\n",
            "Epoch=242,W=19.865993,b=2.070811,loss=1.036100\n",
            "Epoch=243,W=19.868561,b=2.069375,loss=1.035243\n",
            "Epoch=244,W=19.871078,b=2.067967,loss=1.034419\n",
            "Epoch=245,W=19.873547,b=2.066586,loss=1.033627\n",
            "Epoch=246,W=19.875967,b=2.065231,loss=1.032865\n",
            "Epoch=247,W=19.878340,b=2.063903,loss=1.032133\n",
            "Epoch=248,W=19.880667,b=2.062599,loss=1.031428\n",
            "Epoch=249,W=19.882950,b=2.061321,loss=1.030750\n",
            "Epoch=250,W=19.885189,b=2.060067,loss=1.030098\n",
            "Epoch=251,W=19.887384,b=2.058837,loss=1.029471\n",
            "Epoch=252,W=19.889538,b=2.057631,loss=1.028867\n",
            "Epoch=253,W=19.891649,b=2.056448,loss=1.028287\n",
            "Epoch=254,W=19.893719,b=2.055287,loss=1.027730\n",
            "Epoch=255,W=19.895748,b=2.054148,loss=1.027193\n",
            "Epoch=256,W=19.897739,b=2.053032,loss=1.026677\n",
            "Epoch=257,W=19.899693,b=2.051936,loss=1.026181\n",
            "Epoch=258,W=19.901608,b=2.050862,loss=1.025703\n",
            "Epoch=259,W=19.903484,b=2.049808,loss=1.025244\n",
            "Epoch=260,W=19.905325,b=2.048774,loss=1.024803\n",
            "Epoch=261,W=19.907131,b=2.047760,loss=1.024378\n",
            "Epoch=262,W=19.908901,b=2.046766,loss=1.023969\n",
            "Epoch=263,W=19.910639,b=2.045791,loss=1.023576\n",
            "Epoch=264,W=19.912342,b=2.044834,loss=1.023198\n",
            "Epoch=265,W=19.914013,b=2.043895,loss=1.022835\n",
            "Epoch=266,W=19.915651,b=2.042975,loss=1.022485\n",
            "Epoch=267,W=19.917257,b=2.042072,loss=1.022149\n",
            "Epoch=268,W=19.918833,b=2.041186,loss=1.021825\n",
            "Epoch=269,W=19.920378,b=2.040318,loss=1.021514\n",
            "Epoch=270,W=19.921892,b=2.039465,loss=1.021215\n",
            "Epoch=271,W=19.923378,b=2.038630,loss=1.020928\n",
            "Epoch=272,W=19.924835,b=2.037810,loss=1.020651\n",
            "Epoch=273,W=19.926264,b=2.037006,loss=1.020385\n",
            "Epoch=274,W=19.927664,b=2.036217,loss=1.020129\n",
            "Epoch=275,W=19.929037,b=2.035443,loss=1.019883\n",
            "Epoch=276,W=19.930384,b=2.034684,loss=1.019646\n",
            "Epoch=277,W=19.931705,b=2.033940,loss=1.019418\n",
            "Epoch=278,W=19.933001,b=2.033210,loss=1.019199\n",
            "Epoch=279,W=19.934271,b=2.032494,loss=1.018989\n",
            "Epoch=280,W=19.935516,b=2.031791,loss=1.018786\n",
            "Epoch=281,W=19.936739,b=2.031102,loss=1.018591\n",
            "Epoch=282,W=19.937937,b=2.030427,loss=1.018404\n",
            "Epoch=283,W=19.939112,b=2.029764,loss=1.018223\n",
            "Epoch=284,W=19.940264,b=2.029114,loss=1.018050\n",
            "Epoch=285,W=19.941395,b=2.028476,loss=1.017883\n",
            "Epoch=286,W=19.942503,b=2.027850,loss=1.017723\n",
            "Epoch=287,W=19.943590,b=2.027237,loss=1.017569\n",
            "Epoch=288,W=19.944656,b=2.026635,loss=1.017420\n",
            "Epoch=289,W=19.945702,b=2.026045,loss=1.017277\n",
            "Epoch=290,W=19.946726,b=2.025466,loss=1.017140\n",
            "Epoch=291,W=19.947731,b=2.024898,loss=1.017008\n",
            "Epoch=292,W=19.948717,b=2.024341,loss=1.016881\n",
            "Epoch=293,W=19.949684,b=2.023795,loss=1.016759\n",
            "Epoch=294,W=19.950632,b=2.023259,loss=1.016642\n",
            "Epoch=295,W=19.951561,b=2.022733,loss=1.016529\n",
            "Epoch=296,W=19.952473,b=2.022217,loss=1.016420\n",
            "Epoch=297,W=19.953367,b=2.021712,loss=1.016316\n",
            "Epoch=298,W=19.954245,b=2.021215,loss=1.016215\n",
            "Epoch=299,W=19.955105,b=2.020729,loss=1.016118\n",
            "Epoch=300,W=19.955948,b=2.020252,loss=1.016025\n",
            "Epoch=301,W=19.956776,b=2.019783,loss=1.015936\n",
            "Epoch=302,W=19.957586,b=2.019324,loss=1.015850\n",
            "Epoch=303,W=19.958382,b=2.018874,loss=1.015767\n",
            "Epoch=304,W=19.959162,b=2.018432,loss=1.015688\n",
            "Epoch=305,W=19.959927,b=2.017999,loss=1.015611\n",
            "Epoch=306,W=19.960676,b=2.017574,loss=1.015538\n",
            "Epoch=307,W=19.961412,b=2.017157,loss=1.015467\n",
            "Epoch=308,W=19.962133,b=2.016748,loss=1.015399\n",
            "Epoch=309,W=19.962841,b=2.016347,loss=1.015333\n",
            "Epoch=310,W=19.963535,b=2.015954,loss=1.015270\n",
            "Epoch=311,W=19.964216,b=2.015568,loss=1.015209\n",
            "Epoch=312,W=19.964884,b=2.015189,loss=1.015151\n",
            "Epoch=313,W=19.965538,b=2.014818,loss=1.015095\n",
            "Epoch=314,W=19.966179,b=2.014454,loss=1.015041\n",
            "Epoch=315,W=19.966808,b=2.014097,loss=1.014989\n",
            "Epoch=316,W=19.967424,b=2.013747,loss=1.014940\n",
            "Epoch=317,W=19.968029,b=2.013403,loss=1.014892\n",
            "Epoch=318,W=19.968622,b=2.013066,loss=1.014846\n",
            "Epoch=319,W=19.969204,b=2.012735,loss=1.014801\n",
            "Epoch=320,W=19.969774,b=2.012411,loss=1.014759\n",
            "Epoch=321,W=19.970333,b=2.012093,loss=1.014718\n",
            "Epoch=322,W=19.970882,b=2.011781,loss=1.014678\n",
            "Epoch=323,W=19.971420,b=2.011475,loss=1.014640\n",
            "Epoch=324,W=19.971949,b=2.011175,loss=1.014604\n",
            "Epoch=325,W=19.972466,b=2.010881,loss=1.014569\n",
            "Epoch=326,W=19.972973,b=2.010592,loss=1.014535\n",
            "Epoch=327,W=19.973471,b=2.010309,loss=1.014503\n",
            "Epoch=328,W=19.973959,b=2.010031,loss=1.014471\n",
            "Epoch=329,W=19.974438,b=2.009758,loss=1.014441\n",
            "Epoch=330,W=19.974907,b=2.009491,loss=1.014412\n",
            "Epoch=331,W=19.975367,b=2.009229,loss=1.014385\n",
            "Epoch=332,W=19.975819,b=2.008972,loss=1.014358\n",
            "Epoch=333,W=19.976261,b=2.008719,loss=1.014332\n",
            "Epoch=334,W=19.976696,b=2.008472,loss=1.014307\n",
            "Epoch=335,W=19.977121,b=2.008229,loss=1.014284\n",
            "Epoch=336,W=19.977539,b=2.007991,loss=1.014261\n",
            "Epoch=337,W=19.977949,b=2.007758,loss=1.014239\n",
            "Epoch=338,W=19.978350,b=2.007529,loss=1.014218\n",
            "Epoch=339,W=19.978743,b=2.007304,loss=1.014197\n",
            "Epoch=340,W=19.979128,b=2.007084,loss=1.014178\n",
            "Epoch=341,W=19.979507,b=2.006868,loss=1.014159\n",
            "Epoch=342,W=19.979879,b=2.006656,loss=1.014141\n",
            "Epoch=343,W=19.980244,b=2.006448,loss=1.014123\n",
            "Epoch=344,W=19.980600,b=2.006244,loss=1.014107\n",
            "Epoch=345,W=19.980951,b=2.006044,loss=1.014091\n",
            "Epoch=346,W=19.981295,b=2.005848,loss=1.014075\n",
            "Epoch=347,W=19.981632,b=2.005656,loss=1.014060\n",
            "Epoch=348,W=19.981962,b=2.005467,loss=1.014046\n",
            "Epoch=349,W=19.982286,b=2.005282,loss=1.014032\n",
            "Epoch=350,W=19.982603,b=2.005100,loss=1.014019\n",
            "Epoch=351,W=19.982914,b=2.004922,loss=1.014006\n",
            "Epoch=352,W=19.983219,b=2.004747,loss=1.013994\n",
            "Epoch=353,W=19.983519,b=2.004576,loss=1.013982\n",
            "Epoch=354,W=19.983812,b=2.004408,loss=1.013971\n",
            "Epoch=355,W=19.984100,b=2.004243,loss=1.013960\n",
            "Epoch=356,W=19.984383,b=2.004081,loss=1.013949\n",
            "Epoch=357,W=19.984659,b=2.003923,loss=1.013939\n",
            "Epoch=358,W=19.984930,b=2.003767,loss=1.013929\n",
            "Epoch=359,W=19.985197,b=2.003615,loss=1.013920\n",
            "Epoch=360,W=19.985458,b=2.003465,loss=1.013911\n",
            "Epoch=361,W=19.985714,b=2.003318,loss=1.013903\n",
            "Epoch=362,W=19.985966,b=2.003174,loss=1.013894\n",
            "Epoch=363,W=19.986212,b=2.003033,loss=1.013886\n",
            "Epoch=364,W=19.986454,b=2.002895,loss=1.013879\n",
            "Epoch=365,W=19.986691,b=2.002759,loss=1.013871\n",
            "Epoch=366,W=19.986923,b=2.002625,loss=1.013864\n",
            "Epoch=367,W=19.987150,b=2.002495,loss=1.013857\n",
            "Epoch=368,W=19.987373,b=2.002367,loss=1.013851\n",
            "Epoch=369,W=19.987593,b=2.002241,loss=1.013844\n",
            "Epoch=370,W=19.987808,b=2.002118,loss=1.013838\n",
            "Epoch=371,W=19.988020,b=2.001997,loss=1.013832\n",
            "Epoch=372,W=19.988226,b=2.001878,loss=1.013827\n",
            "Epoch=373,W=19.988428,b=2.001762,loss=1.013821\n",
            "Epoch=374,W=19.988626,b=2.001647,loss=1.013816\n",
            "Epoch=375,W=19.988821,b=2.001535,loss=1.013811\n",
            "Epoch=376,W=19.989012,b=2.001426,loss=1.013806\n",
            "Epoch=377,W=19.989199,b=2.001318,loss=1.013802\n",
            "Epoch=378,W=19.989382,b=2.001212,loss=1.013797\n",
            "Epoch=379,W=19.989563,b=2.001108,loss=1.013793\n",
            "Epoch=380,W=19.989740,b=2.001007,loss=1.013789\n",
            "Epoch=381,W=19.989914,b=2.000907,loss=1.013785\n",
            "Epoch=382,W=19.990084,b=2.000809,loss=1.013781\n",
            "Epoch=383,W=19.990250,b=2.000714,loss=1.013777\n",
            "Epoch=384,W=19.990414,b=2.000619,loss=1.013774\n",
            "Epoch=385,W=19.990574,b=2.000527,loss=1.013771\n",
            "Epoch=386,W=19.990730,b=2.000437,loss=1.013767\n",
            "Epoch=387,W=19.990885,b=2.000348,loss=1.013764\n",
            "Epoch=388,W=19.991035,b=2.000261,loss=1.013761\n",
            "Epoch=389,W=19.991184,b=2.000175,loss=1.013758\n",
            "Epoch=390,W=19.991329,b=2.000092,loss=1.013755\n",
            "Epoch=391,W=19.991472,b=2.000010,loss=1.013753\n",
            "Epoch=392,W=19.991611,b=1.999929,loss=1.013750\n",
            "Epoch=393,W=19.991749,b=1.999850,loss=1.013748\n",
            "Epoch=394,W=19.991884,b=1.999772,loss=1.013745\n",
            "Epoch=395,W=19.992016,b=1.999696,loss=1.013743\n",
            "Epoch=396,W=19.992146,b=1.999622,loss=1.013741\n",
            "Epoch=397,W=19.992273,b=1.999548,loss=1.013739\n",
            "Epoch=398,W=19.992397,b=1.999477,loss=1.013736\n",
            "Epoch=399,W=19.992519,b=1.999406,loss=1.013735\n",
            "Epoch=400,W=19.992640,b=1.999337,loss=1.013733\n",
            "Epoch=401,W=19.992758,b=1.999269,loss=1.013731\n",
            "Epoch=402,W=19.992872,b=1.999203,loss=1.013729\n",
            "Epoch=403,W=19.992985,b=1.999138,loss=1.013727\n",
            "Epoch=404,W=19.993095,b=1.999074,loss=1.013726\n",
            "Epoch=405,W=19.993204,b=1.999011,loss=1.013724\n",
            "Epoch=406,W=19.993311,b=1.998950,loss=1.013723\n",
            "Epoch=407,W=19.993416,b=1.998889,loss=1.013721\n",
            "Epoch=408,W=19.993519,b=1.998830,loss=1.013720\n",
            "Epoch=409,W=19.993620,b=1.998772,loss=1.013719\n",
            "Epoch=410,W=19.993719,b=1.998715,loss=1.013717\n",
            "Epoch=411,W=19.993816,b=1.998660,loss=1.013716\n",
            "Epoch=412,W=19.993912,b=1.998605,loss=1.013715\n",
            "Epoch=413,W=19.994005,b=1.998551,loss=1.013714\n",
            "Epoch=414,W=19.994097,b=1.998498,loss=1.013713\n",
            "Epoch=415,W=19.994186,b=1.998447,loss=1.013711\n",
            "Epoch=416,W=19.994274,b=1.998396,loss=1.013711\n",
            "Epoch=417,W=19.994360,b=1.998346,loss=1.013710\n",
            "Epoch=418,W=19.994444,b=1.998298,loss=1.013709\n",
            "Epoch=419,W=19.994526,b=1.998250,loss=1.013708\n",
            "Epoch=420,W=19.994606,b=1.998203,loss=1.013707\n",
            "Epoch=421,W=19.994686,b=1.998157,loss=1.013706\n",
            "Epoch=422,W=19.994764,b=1.998112,loss=1.013705\n",
            "Epoch=423,W=19.994841,b=1.998068,loss=1.013704\n",
            "Epoch=424,W=19.994915,b=1.998024,loss=1.013704\n",
            "Epoch=425,W=19.994987,b=1.997982,loss=1.013703\n",
            "Epoch=426,W=19.995060,b=1.997940,loss=1.013703\n",
            "Epoch=427,W=19.995131,b=1.997899,loss=1.013702\n",
            "Epoch=428,W=19.995199,b=1.997859,loss=1.013701\n",
            "Epoch=429,W=19.995268,b=1.997819,loss=1.013700\n",
            "Epoch=430,W=19.995335,b=1.997781,loss=1.013700\n",
            "Epoch=431,W=19.995399,b=1.997743,loss=1.013699\n",
            "Epoch=432,W=19.995464,b=1.997706,loss=1.013699\n",
            "Epoch=433,W=19.995527,b=1.997669,loss=1.013698\n",
            "Epoch=434,W=19.995588,b=1.997633,loss=1.013698\n",
            "Epoch=435,W=19.995649,b=1.997598,loss=1.013697\n",
            "Epoch=436,W=19.995708,b=1.997564,loss=1.013697\n",
            "Epoch=437,W=19.995766,b=1.997530,loss=1.013696\n",
            "Epoch=438,W=19.995823,b=1.997497,loss=1.013696\n",
            "Epoch=439,W=19.995878,b=1.997465,loss=1.013695\n",
            "Epoch=440,W=19.995934,b=1.997433,loss=1.013695\n",
            "Epoch=441,W=19.995987,b=1.997401,loss=1.013695\n",
            "Epoch=442,W=19.996040,b=1.997371,loss=1.013694\n",
            "Epoch=443,W=19.996092,b=1.997341,loss=1.013694\n",
            "Epoch=444,W=19.996143,b=1.997311,loss=1.013694\n",
            "Epoch=445,W=19.996193,b=1.997282,loss=1.013693\n",
            "Epoch=446,W=19.996243,b=1.997254,loss=1.013693\n",
            "Epoch=447,W=19.996290,b=1.997226,loss=1.013693\n",
            "Epoch=448,W=19.996338,b=1.997199,loss=1.013692\n",
            "Epoch=449,W=19.996384,b=1.997172,loss=1.013692\n",
            "Epoch=450,W=19.996429,b=1.997146,loss=1.013692\n",
            "Epoch=451,W=19.996473,b=1.997120,loss=1.013692\n",
            "Epoch=452,W=19.996517,b=1.997095,loss=1.013691\n",
            "Epoch=453,W=19.996559,b=1.997070,loss=1.013691\n",
            "Epoch=454,W=19.996601,b=1.997046,loss=1.013691\n",
            "Epoch=455,W=19.996641,b=1.997022,loss=1.013691\n",
            "Epoch=456,W=19.996681,b=1.996999,loss=1.013690\n",
            "Epoch=457,W=19.996721,b=1.996976,loss=1.013690\n",
            "Epoch=458,W=19.996759,b=1.996953,loss=1.013690\n",
            "Epoch=459,W=19.996798,b=1.996931,loss=1.013690\n",
            "Epoch=460,W=19.996834,b=1.996909,loss=1.013690\n",
            "Epoch=461,W=19.996870,b=1.996888,loss=1.013690\n",
            "Epoch=462,W=19.996906,b=1.996867,loss=1.013689\n",
            "Epoch=463,W=19.996941,b=1.996847,loss=1.013689\n",
            "Epoch=464,W=19.996975,b=1.996827,loss=1.013689\n",
            "Epoch=465,W=19.997009,b=1.996807,loss=1.013689\n",
            "Epoch=466,W=19.997042,b=1.996788,loss=1.013689\n",
            "Epoch=467,W=19.997074,b=1.996769,loss=1.013688\n",
            "Epoch=468,W=19.997107,b=1.996751,loss=1.013689\n",
            "Epoch=469,W=19.997137,b=1.996733,loss=1.013688\n",
            "Epoch=470,W=19.997168,b=1.996715,loss=1.013688\n",
            "Epoch=471,W=19.997198,b=1.996697,loss=1.013688\n",
            "Epoch=472,W=19.997227,b=1.996680,loss=1.013688\n",
            "Epoch=473,W=19.997255,b=1.996663,loss=1.013688\n",
            "Epoch=474,W=19.997284,b=1.996647,loss=1.013688\n",
            "Epoch=475,W=19.997311,b=1.996631,loss=1.013688\n",
            "Epoch=476,W=19.997337,b=1.996615,loss=1.013688\n",
            "Epoch=477,W=19.997364,b=1.996599,loss=1.013687\n",
            "Epoch=478,W=19.997391,b=1.996584,loss=1.013687\n",
            "Epoch=479,W=19.997416,b=1.996569,loss=1.013687\n",
            "Epoch=480,W=19.997440,b=1.996554,loss=1.013687\n",
            "Epoch=481,W=19.997465,b=1.996540,loss=1.013687\n",
            "Epoch=482,W=19.997490,b=1.996526,loss=1.013687\n",
            "Epoch=483,W=19.997513,b=1.996512,loss=1.013687\n",
            "Epoch=484,W=19.997536,b=1.996498,loss=1.013687\n",
            "Epoch=485,W=19.997559,b=1.996485,loss=1.013687\n",
            "Epoch=486,W=19.997581,b=1.996472,loss=1.013687\n",
            "Epoch=487,W=19.997602,b=1.996459,loss=1.013687\n",
            "Epoch=488,W=19.997623,b=1.996446,loss=1.013687\n",
            "Epoch=489,W=19.997644,b=1.996434,loss=1.013687\n",
            "Epoch=490,W=19.997665,b=1.996422,loss=1.013687\n",
            "Epoch=491,W=19.997686,b=1.996410,loss=1.013686\n",
            "Epoch=492,W=19.997705,b=1.996398,loss=1.013686\n",
            "Epoch=493,W=19.997725,b=1.996387,loss=1.013686\n",
            "Epoch=494,W=19.997744,b=1.996375,loss=1.013686\n",
            "Epoch=495,W=19.997763,b=1.996364,loss=1.013686\n",
            "Epoch=496,W=19.997782,b=1.996354,loss=1.013686\n",
            "Epoch=497,W=19.997799,b=1.996343,loss=1.013686\n",
            "Epoch=498,W=19.997816,b=1.996333,loss=1.013686\n",
            "Epoch=499,W=19.997833,b=1.996323,loss=1.013686\n"
          ]
        }
      ]
    },
    {
      "cell_type": "code",
      "source": [
        "plt.plot(epochs,ws,'r',epochs,bs,'b')\n",
        "plt.plot([true_w]*len(epochs),'r--',[true_b]*len(epochs),'b-.')\n",
        "plt.show"
      ],
      "metadata": {
        "colab": {
          "base_uri": "https://localhost:8080/",
          "height": 282
        },
        "id": "RURR8G02ubz8",
        "outputId": "3e7a1914-5414-409a-cd02-95ada3c4980f"
      },
      "execution_count": null,
      "outputs": [
        {
          "output_type": "execute_result",
          "data": {
            "text/plain": [
              "<function matplotlib.pyplot.show(*args, **kw)>"
            ]
          },
          "metadata": {},
          "execution_count": 10
        },
        {
          "output_type": "display_data",
          "data": {
            "text/plain": [
              "<Figure size 432x288 with 1 Axes>"
            ],
            "image/png": "[encoded data removed]"
          },
          "metadata": {
            "needs_background": "light"
          }
        }
      ]
    },
    {
      "cell_type": "code",
      "source": [
        "plt.scatter(inputs,target,c='r')\n",
        "plt.scatter(inputs,model(inputs),c='b')\n",
        "plt.show()\n",
        "print('loss= ',loss(target,model(inputs)).numpy())"
      ],
      "metadata": {
        "colab": {
          "base_uri": "https://localhost:8080/",
          "height": 284
        },
        "id": "is6ys2r-wzz1",
        "outputId": "0dfe7c36-82e4-4070-be53-d1bd23713bad"
      },
      "execution_count": null,
      "outputs": [
        {
          "output_type": "display_data",
          "data": {
            "text/plain": [
              "<Figure size 432x288 with 1 Axes>"
            ],
            "image/png": "[encoded data removed]"
          },
          "metadata": {
            "needs_background": "light"
          }
        },
        {
          "output_type": "stream",
          "name": "stdout",
          "text": [
            "loss=  1.013686\n"
          ]
        }
      ]
    },
    {
      "cell_type": "markdown",
      "source": [
        "ACTIVATION FUNCTION\n"
      ],
      "metadata": {
        "id": "HhJJJ7Y1zmve"
      }
    },
    {
      "cell_type": "markdown",
      "source": [
        "Logistic=sigmoid=1/(1+exp(-x))Linear=f(x)=x tanhyperbolic=tanh(x) sigmoid=1/(!+np.exp(-x))relu f(x)=max(0,x)=if x<0 then 0 else x threshold: f(x)=0 if x<=0 else 1 softmax"
      ],
      "metadata": {
        "id": "ynFFf9wEzp9b"
      }
    },
    {
      "cell_type": "code",
      "source": [],
      "metadata": {
        "id": "ZStkEo_50doY"
      },
      "execution_count": null,
      "outputs": []
    },
    {
      "cell_type": "code",
      "source": [],
      "metadata": {
        "id": "mywwt2mX01fP"
      },
      "execution_count": null,
      "outputs": []
    },
    {
      "cell_type": "code",
      "source": [],
      "metadata": {
        "id": "KGRuviTT00Wj"
      },
      "execution_count": null,
      "outputs": []
    },
    {
      "cell_type": "code",
      "source": [
        "#SOFTMAX ACTIVATION FUNCTION\n",
        "x = tf.constant([1,2,3,4],dtype=tf.float32)\n",
        "y = tf.nn.softmax(x)\n",
        "print(x.numpy())\n",
        "print(y.numpy())\n",
        "print(tf.reduce_sum(y).numpy())\n",
        "print(tf.argmax(y).numpy())"
      ],
      "metadata": {
        "colab": {
          "base_uri": "https://localhost:8080/"
        },
        "id": "hgmRq0wS02Hp",
        "outputId": "bdb7d226-b892-4e7f-b811-b65f46434f71"
      },
      "execution_count": null,
      "outputs": [
        {
          "output_type": "stream",
          "name": "stdout",
          "text": [
            "[1. 2. 3. 4.]\n",
            "[0.0320586  0.08714432 0.23688284 0.6439142 ]\n",
            "0.99999994\n",
            "3\n"
          ]
        }
      ]
    },
    {
      "cell_type": "code",
      "source": [
        "#1ST SEQUENTIAL MODEL DARECT INPUT\n",
        "import "
      ],
      "metadata": {
        "id": "7g6kPRu-1eXE"
      },
      "execution_count": null,
      "outputs": []
    }
  ]
}