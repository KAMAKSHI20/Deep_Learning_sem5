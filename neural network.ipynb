{
  "nbformat": 4,
  "nbformat_minor": 0,
  "metadata": {
    "colab": {
      "provenance": []
    },
    "kernelspec": {
      "name": "python3",
      "display_name": "Python 3"
    },
    "language_info": {
      "name": "python"
    }
  },
  "cells": [
    {
      "cell_type": "code",
      "execution_count": null,
      "metadata": {
        "colab": {
          "base_uri": "https://localhost:8080/"
        },
        "id": "WjJ2t6MUrt33",
        "outputId": "96e732cf-f0a5-4fcd-d699-7996a68c35fa"
      },
      "outputs": [
        {
          "output_type": "stream",
          "name": "stdout",
          "text": [
            "2.8.2\n"
          ]
        }
      ],
      "source": [
        "import tensorflow as tf\n",
        "print(tf.__version__)"
      ]
    },
    {
      "cell_type": "code",
      "source": [
        "print(tf.test.is_built_with_cuda())\n",
        "print(tf.test.is_built_with_gpu_support())"
      ],
      "metadata": {
        "colab": {
          "base_uri": "https://localhost:8080/"
        },
        "id": "bWRrjCnGsboa",
        "outputId": "9956dd4f-f085-4e83-f77a-1ce9f7096f04"
      },
      "execution_count": null,
      "outputs": [
        {
          "output_type": "stream",
          "name": "stdout",
          "text": [
            "True\n",
            "True\n"
          ]
        }
      ]
    },
    {
      "cell_type": "markdown",
      "source": [
        "LIST OF PHYSICAL DEVICES"
      ],
      "metadata": {
        "id": "XxEhOlTFuMs6"
      }
    },
    {
      "cell_type": "code",
      "source": [
        "d= tf.config.list_physical_devices()\n",
        "for device in d:\n",
        "  print(device)"
      ],
      "metadata": {
        "colab": {
          "base_uri": "https://localhost:8080/"
        },
        "id": "daTMOmiKuj6f",
        "outputId": "66d02ee6-9e24-4fce-f6a8-e0cacb7e5e5d"
      },
      "execution_count": null,
      "outputs": [
        {
          "output_type": "stream",
          "name": "stdout",
          "text": [
            "PhysicalDevice(name='/physical_device:CPU:0', device_type='CPU')\n"
          ]
        }
      ]
    },
    {
      "cell_type": "code",
      "source": [
        "print(tf.config.list_physical_devices('CPU'))\n",
        "print(tf.test.gpu_device_name())"
      ],
      "metadata": {
        "colab": {
          "base_uri": "https://localhost:8080/"
        },
        "id": "drLleuTfu06b",
        "outputId": "58606cc7-5658-4819-eb6c-fdf315653ca2"
      },
      "execution_count": null,
      "outputs": [
        {
          "output_type": "stream",
          "name": "stdout",
          "text": [
            "[PhysicalDevice(name='/physical_device:CPU:0', device_type='CPU')]\n",
            "\n"
          ]
        }
      ]
    },
    {
      "cell_type": "code",
      "source": [
        "x= tf.constant(10)\n",
        "print(x.device)\n",
        "print(x)\n",
        "print(x.numpy())\n",
        "print(x.shape)"
      ],
      "metadata": {
        "colab": {
          "base_uri": "https://localhost:8080/"
        },
        "id": "ERF0k7j5vRJb",
        "outputId": "0675d19c-e54d-4dbd-e419-310cf972fab9"
      },
      "execution_count": null,
      "outputs": [
        {
          "output_type": "stream",
          "name": "stdout",
          "text": [
            "/job:localhost/replica:0/task:0/device:CPU:0\n",
            "tf.Tensor(10, shape=(), dtype=int32)\n",
            "10\n",
            "()\n"
          ]
        }
      ]
    },
    {
      "cell_type": "code",
      "source": [
        "y= tf.zeros((10,5))\n",
        "print(y.device)\n",
        "print(y.numpy())\n",
        "print(y.shape)"
      ],
      "metadata": {
        "colab": {
          "base_uri": "https://localhost:8080/"
        },
        "id": "xdbne-mcvhIH",
        "outputId": "98f062e3-72b9-4630-c7f3-1d2e3c0c6f82"
      },
      "execution_count": null,
      "outputs": [
        {
          "output_type": "stream",
          "name": "stdout",
          "text": [
            "/job:localhost/replica:0/task:0/device:CPU:0\n",
            "[[0. 0. 0. 0. 0.]\n",
            " [0. 0. 0. 0. 0.]\n",
            " [0. 0. 0. 0. 0.]\n",
            " [0. 0. 0. 0. 0.]\n",
            " [0. 0. 0. 0. 0.]\n",
            " [0. 0. 0. 0. 0.]\n",
            " [0. 0. 0. 0. 0.]\n",
            " [0. 0. 0. 0. 0.]\n",
            " [0. 0. 0. 0. 0.]\n",
            " [0. 0. 0. 0. 0.]]\n",
            "(10, 5)\n"
          ]
        }
      ]
    },
    {
      "cell_type": "markdown",
      "source": [
        "similarly with variables"
      ],
      "metadata": {
        "id": "vjR3CcE6vxuA"
      }
    },
    {
      "cell_type": "code",
      "source": [
        "x= tf.Variable(10)\n",
        "print(x.device)\n",
        "print(x)\n",
        "print(x.numpy())\n",
        "x= tf.Variable(tf.zeros(10))\n",
        "print(x.device)"
      ],
      "metadata": {
        "colab": {
          "base_uri": "https://localhost:8080/"
        },
        "id": "ISar6-KUv4cv",
        "outputId": "b75a0479-5752-45d0-c731-5587f4213169"
      },
      "execution_count": null,
      "outputs": [
        {
          "output_type": "stream",
          "name": "stdout",
          "text": [
            "/job:localhost/replica:0/task:0/device:CPU:0\n",
            "<tf.Variable 'Variable:0' shape=() dtype=int32, numpy=10>\n",
            "10\n",
            "/job:localhost/replica:0/task:0/device:CPU:0\n"
          ]
        }
      ]
    },
    {
      "cell_type": "markdown",
      "source": [
        "Debugging Mode On"
      ],
      "metadata": {
        "id": "eNYdDmegwRsT"
      }
    },
    {
      "cell_type": "code",
      "source": [
        "from re import T\n",
        "import tensorflow as tf\n",
        "tf.debugging.set_log_device_placement(True)\n",
        "a= tf.constant([[1,2,3],[4,5,6]])\n",
        "b= tf.constant([[1,2],[2,3],[4,5]])\n",
        "c= tf.matmul(a,b)\n",
        "d=tf.Variable(10)\n",
        "e=d+10"
      ],
      "metadata": {
        "colab": {
          "base_uri": "https://localhost:8080/"
        },
        "id": "Y1IkGJTUwWb1",
        "outputId": "bf9c03c4-4ee6-4d53-82fe-bc8da3f2017d"
      },
      "execution_count": null,
      "outputs": [
        {
          "output_type": "stream",
          "name": "stdout",
          "text": [
            "Executing op _EagerConst in device /job:localhost/replica:0/task:0/device:CPU:0\n",
            "Executing op _EagerConst in device /job:localhost/replica:0/task:0/device:CPU:0\n",
            "Executing op MatMul in device /job:localhost/replica:0/task:0/device:CPU:0\n",
            "Executing op _EagerConst in device /job:localhost/replica:0/task:0/device:CPU:0\n",
            "Executing op VarHandleOp in device /job:localhost/replica:0/task:0/device:CPU:0\n",
            "Executing op AssignVariableOp in device /job:localhost/replica:0/task:0/device:CPU:0\n",
            "Executing op ReadVariableOp in device /job:localhost/replica:0/task:0/device:CPU:0\n",
            "Executing op _EagerConst in device /job:localhost/replica:0/task:0/device:CPU:0\n",
            "Executing op AddV2 in device /job:localhost/replica:0/task:0/device:CPU:0\n"
          ]
        }
      ]
    },
    {
      "cell_type": "code",
      "source": [
        "print(c)"
      ],
      "metadata": {
        "colab": {
          "base_uri": "https://localhost:8080/"
        },
        "id": "XmY_5TUbxCtm",
        "outputId": "1b73f3b2-80c5-4936-ea76-43b0f3121d58"
      },
      "execution_count": null,
      "outputs": [
        {
          "output_type": "stream",
          "name": "stdout",
          "text": [
            "tf.Tensor(\n",
            "[[17 23]\n",
            " [38 53]], shape=(2, 2), dtype=int32)\n"
          ]
        }
      ]
    },
    {
      "cell_type": "code",
      "source": [
        "import tensorflow as tf\n",
        "tf.debugging.set_log_device_placement(True)\n",
        "a= tf.constant(10)\n",
        "b= tf.constant(20)\n",
        "c= tf.constant(30)\n",
        "z=a+b+c\n",
        "print(z.numpy())"
      ],
      "metadata": {
        "colab": {
          "base_uri": "https://localhost:8080/"
        },
        "id": "xsfUd9WTxFmV",
        "outputId": "8d37ca13-db8f-49db-834a-a40af1b41d8c"
      },
      "execution_count": null,
      "outputs": [
        {
          "output_type": "stream",
          "name": "stdout",
          "text": [
            "Executing op _EagerConst in device /job:localhost/replica:0/task:0/device:CPU:0\n",
            "Executing op AddV2 in device /job:localhost/replica:0/task:0/device:CPU:0\n",
            "Executing op AddV2 in device /job:localhost/replica:0/task:0/device:CPU:0\n",
            "60\n"
          ]
        }
      ]
    },
    {
      "cell_type": "markdown",
      "source": [
        "Creating Graph"
      ],
      "metadata": {
        "id": "2fZVKM-Hxiws"
      }
    },
    {
      "cell_type": "code",
      "source": [
        "import tensorflow as tf\n",
        "tf.debugging.set_log_device_placement(True)\n",
        "def sum_t(a,b,c):\n",
        "  z=a+b+c\n",
        "  return z\n",
        "\n",
        "graph= tf.function(sum_t)\n",
        "a= tf.constant(10)\n",
        "b= tf.constant(20)\n",
        "c= tf.constant(30)\n",
        "print(graph(a,b,c).numpy())"
      ],
      "metadata": {
        "colab": {
          "base_uri": "https://localhost:8080/"
        },
        "id": "7eP-eeazxki2",
        "outputId": "41e735b8-b1b0-46da-fc71-de277b6130a2"
      },
      "execution_count": null,
      "outputs": [
        {
          "output_type": "stream",
          "name": "stdout",
          "text": [
            "Executing op __inference_sum_t_41 in device /job:localhost/replica:0/task:0/device:CPU:0\n",
            "60\n"
          ]
        }
      ]
    },
    {
      "cell_type": "code",
      "source": [
        "import tensorflow as tf\n",
        "x=tf.constant([[1,3],[2,1]])\n",
        "print(x)        #print tensor\n",
        "print(x.shape)  #print shape of tensor\n",
        "print(x.dtype)  #print datatype\n",
        "print(x.numpy())  #tensor to numpy array\n",
        "print(tf.rank(x).numpy()) #rank\n",
        "print(tf.add(x,10))   #add 10\n",
        "print(tf.multiply(x,10))  #multiply\n",
        "print(x*10)   #multiply\n",
        "print(x**3) #power"
      ],
      "metadata": {
        "colab": {
          "base_uri": "https://localhost:8080/"
        },
        "id": "sgn7zWy652TR",
        "outputId": "d7d2ed44-9a4f-4035-ccdd-a51bbd46ba03"
      },
      "execution_count": null,
      "outputs": [
        {
          "output_type": "stream",
          "name": "stdout",
          "text": [
            "tf.Tensor(\n",
            "[[1 3]\n",
            " [2 1]], shape=(2, 2), dtype=int32)\n",
            "(2, 2)\n",
            "<dtype: 'int32'>\n",
            "[[1 3]\n",
            " [2 1]]\n",
            "2\n",
            "tf.Tensor(\n",
            "[[11 13]\n",
            " [12 11]], shape=(2, 2), dtype=int32)\n",
            "tf.Tensor(\n",
            "[[10 30]\n",
            " [20 10]], shape=(2, 2), dtype=int32)\n",
            "tf.Tensor(\n",
            "[[10 30]\n",
            " [20 10]], shape=(2, 2), dtype=int32)\n",
            "tf.Tensor(\n",
            "[[ 1 27]\n",
            " [ 8  1]], shape=(2, 2), dtype=int32)\n"
          ]
        }
      ]
    },
    {
      "cell_type": "code",
      "source": [
        "#MATRIX MULTIPLICATION\n",
        "a= tf.constant([[1,2],[3,4]])\n",
        "b= tf.constant([[3,4],[1,2]])\n",
        "print(a*b)\n",
        "print(tf.multiply(a,b))\n",
        "\n",
        "print(tf.matmul(a,b))\n",
        "print(a@b)"
      ],
      "metadata": {
        "colab": {
          "base_uri": "https://localhost:8080/"
        },
        "id": "1jtLN8gr7Dqs",
        "outputId": "9fff9a80-6104-488b-b170-9d1c71843162"
      },
      "execution_count": null,
      "outputs": [
        {
          "output_type": "stream",
          "name": "stdout",
          "text": [
            "tf.Tensor(\n",
            "[[3 8]\n",
            " [3 8]], shape=(2, 2), dtype=int32)\n",
            "tf.Tensor(\n",
            "[[3 8]\n",
            " [3 8]], shape=(2, 2), dtype=int32)\n",
            "tf.Tensor(\n",
            "[[ 5  8]\n",
            " [13 20]], shape=(2, 2), dtype=int32)\n",
            "tf.Tensor(\n",
            "[[ 5  8]\n",
            " [13 20]], shape=(2, 2), dtype=int32)\n",
            "tf.Tensor(\n",
            "[[3 8]\n",
            " [3 8]], shape=(2, 2), dtype=int32)\n",
            "tf.Tensor(\n",
            "[[3 8]\n",
            " [3 8]], shape=(2, 2), dtype=int32)\n",
            "tf.Tensor(\n",
            "[[ 5  8]\n",
            " [13 20]], shape=(2, 2), dtype=int32)\n",
            "tf.Tensor(\n",
            "[[ 5  8]\n",
            " [13 20]], shape=(2, 2), dtype=int32)\n"
          ]
        }
      ]
    },
    {
      "cell_type": "code",
      "source": [
        "####SPECIAL MATRIX\n",
        "x= tf.zeros((2,2))\n",
        "y= tf.ones((2,2))\n",
        "z= tf.eye(2)  #identity to keep 1 at diagonal\n",
        "print(x)\n",
        "print(y)\n",
        "print(z)"
      ],
      "metadata": {
        "colab": {
          "base_uri": "https://localhost:8080/"
        },
        "id": "23sTeAa-7pDM",
        "outputId": "a956b015-d54e-4f6a-9d08-691bfb69a186"
      },
      "execution_count": null,
      "outputs": [
        {
          "output_type": "stream",
          "name": "stdout",
          "text": [
            "tf.Tensor(\n",
            "[[0. 0.]\n",
            " [0. 0.]], shape=(2, 2), dtype=float32)\n",
            "tf.Tensor(\n",
            "[[1. 1.]\n",
            " [1. 1.]], shape=(2, 2), dtype=float32)\n",
            "tf.Tensor(\n",
            "[[1. 0.]\n",
            " [0. 1.]], shape=(2, 2), dtype=float32)\n"
          ]
        }
      ]
    },
    {
      "cell_type": "code",
      "source": [
        "import tensorflow as tf\n",
        "z= tf.ones((2,3,4,5))\n",
        "#print(z)\n",
        "print(tf.rank(z).numpy())\n",
        "print(z.shape)\n",
        "print(z.dtype)\n",
        "print(z.ndim) \n",
        "print(tf.size(z).numpy())\n",
        "#####################################expand dims\n",
        "z1= tf.expand_dims(z,axis=0)  #axis=(0,1,2,3,4)\n",
        "print(z1.shape)\n",
        "############################### reduce dims\n",
        "z2=tf.squeeze(z1, axis=0)\n",
        "print(z2.shape)"
      ],
      "metadata": {
        "colab": {
          "base_uri": "https://localhost:8080/"
        },
        "id": "GYG7dddP8KPD",
        "outputId": "cefdd461-3e30-4886-c9c1-350400777a1d"
      },
      "execution_count": null,
      "outputs": [
        {
          "output_type": "stream",
          "name": "stdout",
          "text": [
            "4\n",
            "(2, 3, 4, 5)\n",
            "<dtype: 'float32'>\n",
            "4\n",
            "120\n",
            "(1, 2, 3, 4, 5)\n",
            "(2, 3, 4, 5)\n"
          ]
        }
      ]
    },
    {
      "cell_type": "code",
      "source": [
        "import numpy as np\n",
        "x= np.array([[2,3,4,5,6,7],[0,0,1,2,3,4]])\n",
        "print(x.shape)\n",
        "#######################3 cannot go beyond real size\n",
        "y= np.reshape(x,(4,3))\n",
        "print(y)\n",
        "###################### can be of any size\n",
        "z=np.resize(x,(2,30))\n",
        "print(z)"
      ],
      "metadata": {
        "colab": {
          "base_uri": "https://localhost:8080/"
        },
        "id": "CYcD0zdT8xP0",
        "outputId": "fc1f28b1-9de6-4ef5-9a94-908b7cd4710d"
      },
      "execution_count": null,
      "outputs": [
        {
          "output_type": "stream",
          "name": "stdout",
          "text": [
            "(2, 6)\n",
            "[[2 3 4]\n",
            " [5 6 7]\n",
            " [0 0 1]\n",
            " [2 3 4]]\n",
            "[[2 3 4 5 6 7 0 0 1 2 3 4 2 3 4 5 6 7 0 0 1 2 3 4 2 3 4 5 6 7]\n",
            " [0 0 1 2 3 4 2 3 4 5 6 7 0 0 1 2 3 4 2 3 4 5 6 7 0 0 1 2 3 4]]\n"
          ]
        }
      ]
    },
    {
      "cell_type": "code",
      "source": [
        "x=tf.random.uniform((5,5))\n",
        "print(x.numpy())\n",
        "x= tf.random.normal((5,5))\n",
        "print(x.numpy())\n",
        "print(x.device)  "
      ],
      "metadata": {
        "colab": {
          "base_uri": "https://localhost:8080/"
        },
        "id": "sOF_VkXQ-34G",
        "outputId": "a3d58ecd-2767-4d47-f61f-6fad0500e5f0"
      },
      "execution_count": null,
      "outputs": [
        {
          "output_type": "stream",
          "name": "stdout",
          "text": [
            "[[0.6184573  0.22651398 0.0734874  0.99027157 0.65103877]\n",
            " [0.23727441 0.8528707  0.5780201  0.40790212 0.16134977]\n",
            " [0.3868482  0.72320473 0.60391724 0.72044945 0.5619439 ]\n",
            " [0.8592725  0.9903631  0.07225525 0.8862593  0.6026164 ]\n",
            " [0.17694092 0.3808496  0.5598477  0.88318217 0.32246494]]\n",
            "[[-0.34503356  0.26809603 -0.40065065 -0.6814024   0.69679785]\n",
            " [ 0.03141165  0.300342    0.5492395   0.59766227  1.1328678 ]\n",
            " [ 0.9317735  -0.19622281 -0.45426327 -0.956556    2.997975  ]\n",
            " [ 1.9230105   0.40929726 -0.9452444  -0.36510375  1.46224   ]\n",
            " [-0.40384936 -0.8484567   0.20901996  0.6630886  -0.21092497]]\n",
            "/job:localhost/replica:0/task:0/device:CPU:0\n"
          ]
        }
      ]
    },
    {
      "cell_type": "code",
      "source": [
        "z= tf.random.uniform((3,3))\n",
        "print(z.numpy())\n",
        "print(tf.reduce_max(z).numpy())  #reduce dimension\n",
        "print(tf.reduce_max(z,axis=0))   #2D matrix so 2 axis ### column wise aixis is 0 by default ### for row axis is 1 by defaultw\n",
        "print(tf.argmax(z))\n",
        "print(tf.argmin(z))\n",
        "print(tf.reduce_sum(z))\n",
        "print(tf.reduce_max(z).numpy())\n",
        "print(tf.reduce_min(z).numpy())\n",
        "print(tf.square(z))"
      ],
      "metadata": {
        "colab": {
          "base_uri": "https://localhost:8080/"
        },
        "id": "qYSBsILq_ETM",
        "outputId": "068fe7e2-144c-4f26-d2b5-761864befce9"
      },
      "execution_count": null,
      "outputs": [
        {
          "output_type": "stream",
          "name": "stdout",
          "text": [
            "[[0.6224457  0.24344397 0.7577071 ]\n",
            " [0.6730114  0.07480037 0.00455272]\n",
            " [0.16449547 0.785198   0.41274536]]\n",
            "0.785198\n",
            "tf.Tensor([0.6730114 0.785198  0.7577071], shape=(3,), dtype=float32)\n",
            "tf.Tensor([1 2 0], shape=(3,), dtype=int64)\n",
            "tf.Tensor([2 1 1], shape=(3,), dtype=int64)\n",
            "tf.Tensor(3.7384, shape=(), dtype=float32)\n",
            "0.785198\n",
            "0.004552722\n",
            "tf.Tensor(\n",
            "[[3.8743865e-01 5.9264965e-02 5.7412010e-01]\n",
            " [4.5294437e-01 5.5950955e-03 2.0727277e-05]\n",
            " [2.7058760e-02 6.1653584e-01 1.7035873e-01]], shape=(3, 3), dtype=float32)\n"
          ]
        }
      ]
    },
    {
      "cell_type": "code",
      "source": [
        "################ NN ACTIVATION\n",
        "z= tf.random.uniform((3,3))\n",
        "print(tf.nn.softmax(z))\n",
        "print(tf.nn.sigmoid(z))\n",
        "print(tf.nn.relu(z))"
      ],
      "metadata": {
        "colab": {
          "base_uri": "https://localhost:8080/"
        },
        "id": "TvVBRFW_AyLo",
        "outputId": "df198e4c-0dc0-4147-c825-6d7af7c256f8"
      },
      "execution_count": null,
      "outputs": [
        {
          "output_type": "stream",
          "name": "stdout",
          "text": [
            "tf.Tensor(\n",
            "[[0.38854164 0.34846526 0.262993  ]\n",
            " [0.2771138  0.29182374 0.43106246]\n",
            " [0.33085063 0.29443413 0.3747152 ]], shape=(3, 3), dtype=float32)\n",
            "tf.Tensor(\n",
            "[[0.6847203  0.66076124 0.5951453 ]\n",
            " [0.5867016  0.59918445 0.68829733]\n",
            " [0.53237385 0.5032662  0.56320405]], shape=(3, 3), dtype=float32)\n",
            "tf.Tensor(\n",
            "[[0.7755501  0.6666883  0.38527727]\n",
            " [0.35034645 0.40206826 0.79217124]\n",
            " [0.1296767  0.0130651  0.25417602]], shape=(3, 3), dtype=float32)\n"
          ]
        }
      ]
    },
    {
      "cell_type": "code",
      "source": [
        "import numpy as np\n",
        "z= tf.constant(np.arange(10))\n",
        "print(z.numpy())\n",
        "print(z[0].numpy())\n",
        "print(z[-1].numpy())\n",
        "print(z[0:8].numpy())\n",
        "print(z[::].numpy())\n",
        "print(z[::-1].numpy())\n",
        "print(z[::3].numpy())\n"
      ],
      "metadata": {
        "colab": {
          "base_uri": "https://localhost:8080/"
        },
        "id": "PYwILRb1CvYj",
        "outputId": "5fef659f-3662-4ea0-9eda-6969bb80465a"
      },
      "execution_count": null,
      "outputs": [
        {
          "output_type": "stream",
          "name": "stdout",
          "text": [
            "[0 1 2 3 4 5 6 7 8 9]\n",
            "0\n",
            "9\n",
            "[0 1 2 3 4 5 6 7]\n",
            "[0 1 2 3 4 5 6 7 8 9]\n",
            "[9 8 7 6 5 4 3 2 1 0]\n",
            "[0 3 6 9]\n"
          ]
        }
      ]
    },
    {
      "cell_type": "code",
      "source": [
        "z= tf.constant([[1,2,3],[3,4,5],[5,6,7]])\n",
        "print(z[:,1].numpy())\n",
        "print(z[2,:].numpy())\n",
        "print(z[:,0:2].numpy())"
      ],
      "metadata": {
        "colab": {
          "base_uri": "https://localhost:8080/"
        },
        "id": "7wYdztRlDFK2",
        "outputId": "5ee0353d-05be-4f68-9bae-98494ef034ab"
      },
      "execution_count": null,
      "outputs": [
        {
          "output_type": "stream",
          "name": "stdout",
          "text": [
            "[2 4 6]\n",
            "[5 6 7]\n",
            "[[1 2]\n",
            " [3 4]\n",
            " [5 6]]\n"
          ]
        }
      ]
    },
    {
      "cell_type": "code",
      "source": [
        "z=[[1,2,3,4],[2,3],[1],[1,2,3]]\n",
        "print(z)\n",
        "x=tf.ragged.constant(z)\n",
        "print(x)"
      ],
      "metadata": {
        "colab": {
          "base_uri": "https://localhost:8080/"
        },
        "id": "lVTbXMXXDfTV",
        "outputId": "20112765-70c0-49e4-e9fa-03958c6ee17c"
      },
      "execution_count": null,
      "outputs": [
        {
          "output_type": "stream",
          "name": "stdout",
          "text": [
            "[[1, 2, 3, 4], [2, 3], [1], [1, 2, 3]]\n",
            "<tf.RaggedTensor [[1, 2, 3, 4], [2, 3], [1], [1, 2, 3]]>\n"
          ]
        }
      ]
    },
    {
      "cell_type": "code",
      "source": [
        "##METHOD 1\n",
        "#WASTE OF MEMORY\n",
        "z=np.zeros((10,10))\n",
        "z[1,1]=1\n",
        "z[3,9]=1\n",
        "print(z)\n",
        "########################\n",
        "# METHOD 2\n",
        "sp={(1,1):1,(3,9):1}\n",
        "for i in range (10):\n",
        "  for j in range (10):\n",
        "    print(sp.get((i,j),0),end=' ')\n",
        "  \n",
        "  print()\n",
        "\n",
        "####################### \n",
        "# Method 3\n",
        "z=tf.sparse.SparseTensor(indices=[[1,1],[3,9]], values=[1,1], dense_shape=[10,10])\n",
        "\n",
        "print(z)\n",
        "print(tf.sparse.to_dense(z))"
      ],
      "metadata": {
        "colab": {
          "base_uri": "https://localhost:8080/"
        },
        "id": "TBkcGaCRD4Pp",
        "outputId": "d1979a40-6d15-4072-8c07-946753848b47"
      },
      "execution_count": null,
      "outputs": [
        {
          "output_type": "stream",
          "name": "stdout",
          "text": [
            "[[0. 0. 0. 0. 0. 0. 0. 0. 0. 0.]\n",
            " [0. 1. 0. 0. 0. 0. 0. 0. 0. 0.]\n",
            " [0. 0. 0. 0. 0. 0. 0. 0. 0. 0.]\n",
            " [0. 0. 0. 0. 0. 0. 0. 0. 0. 1.]\n",
            " [0. 0. 0. 0. 0. 0. 0. 0. 0. 0.]\n",
            " [0. 0. 0. 0. 0. 0. 0. 0. 0. 0.]\n",
            " [0. 0. 0. 0. 0. 0. 0. 0. 0. 0.]\n",
            " [0. 0. 0. 0. 0. 0. 0. 0. 0. 0.]\n",
            " [0. 0. 0. 0. 0. 0. 0. 0. 0. 0.]\n",
            " [0. 0. 0. 0. 0. 0. 0. 0. 0. 0.]]\n",
            "0 0 0 0 0 0 0 0 0 0 \n",
            "0 1 0 0 0 0 0 0 0 0 \n",
            "0 0 0 0 0 0 0 0 0 0 \n",
            "0 0 0 0 0 0 0 0 0 1 \n",
            "0 0 0 0 0 0 0 0 0 0 \n",
            "0 0 0 0 0 0 0 0 0 0 \n",
            "0 0 0 0 0 0 0 0 0 0 \n",
            "0 0 0 0 0 0 0 0 0 0 \n",
            "0 0 0 0 0 0 0 0 0 0 \n",
            "0 0 0 0 0 0 0 0 0 0 \n",
            "SparseTensor(indices=tf.Tensor(\n",
            "[[1 1]\n",
            " [3 9]], shape=(2, 2), dtype=int64), values=tf.Tensor([1 1], shape=(2,), dtype=int32), dense_shape=tf.Tensor([10 10], shape=(2,), dtype=int64))\n",
            "tf.Tensor(\n",
            "[[0 0 0 0 0 0 0 0 0 0]\n",
            " [0 1 0 0 0 0 0 0 0 0]\n",
            " [0 0 0 0 0 0 0 0 0 0]\n",
            " [0 0 0 0 0 0 0 0 0 1]\n",
            " [0 0 0 0 0 0 0 0 0 0]\n",
            " [0 0 0 0 0 0 0 0 0 0]\n",
            " [0 0 0 0 0 0 0 0 0 0]\n",
            " [0 0 0 0 0 0 0 0 0 0]\n",
            " [0 0 0 0 0 0 0 0 0 0]\n",
            " [0 0 0 0 0 0 0 0 0 0]], shape=(10, 10), dtype=int32)\n"
          ]
        }
      ]
    },
    {
      "cell_type": "code",
      "source": [
        "##########string\n",
        "import tensorflow as tf\n",
        "z=tf.constant('Abc Defgh ijkl')\n",
        "print(z)\n",
        "z1=tf.strings.split(z,sep=' ')\n",
        "print(z1)\n",
        "z2=tf.strings.join(z1,separator=' ')\n",
        "print(z2)"
      ],
      "metadata": {
        "id": "BvthNH_aFYsw",
        "colab": {
          "base_uri": "https://localhost:8080/"
        },
        "outputId": "430afba2-085e-4bd6-f701-93dc1f246485"
      },
      "execution_count": null,
      "outputs": [
        {
          "output_type": "stream",
          "name": "stdout",
          "text": [
            "tf.Tensor(b'Abc Defgh ijkl', shape=(), dtype=string)\n",
            "tf.Tensor([b'Abc' b'Defgh' b'ijkl'], shape=(3,), dtype=string)\n",
            "tf.Tensor(b'Abc Defgh ijkl', shape=(), dtype=string)\n"
          ]
        }
      ]
    },
    {
      "cell_type": "code",
      "source": [
        "import tensorflow as tf\n",
        "z=tf.constant('Abc Defgh ijkl')\n",
        "print(z)"
      ],
      "metadata": {
        "colab": {
          "base_uri": "https://localhost:8080/"
        },
        "id": "1AnrCbZEJws9",
        "outputId": "f3cb96fb-0202-4743-9992-1fa5c92db1b8"
      },
      "execution_count": null,
      "outputs": [
        {
          "output_type": "stream",
          "name": "stdout",
          "text": [
            "tf.Tensor(b'Abc Defgh ijkl', shape=(), dtype=string)\n"
          ]
        }
      ]
    },
    {
      "cell_type": "code",
      "source": [
        "z1=tf.strings.split(z,sep=' ')\n",
        "print(z1)"
      ],
      "metadata": {
        "colab": {
          "base_uri": "https://localhost:8080/"
        },
        "id": "9O9-VjTFJyn3",
        "outputId": "cc246aba-b7c0-4d74-fdc6-fe7fb907915a"
      },
      "execution_count": null,
      "outputs": [
        {
          "output_type": "stream",
          "name": "stdout",
          "text": [
            "tf.Tensor([b'Abc' b'Defgh' b'ijkl'], shape=(3,), dtype=string)\n"
          ]
        }
      ]
    },
    {
      "cell_type": "code",
      "source": [
        "z2=tf.strings.join(z1,separator=' ')\n",
        "print(z2)"
      ],
      "metadata": {
        "colab": {
          "base_uri": "https://localhost:8080/"
        },
        "id": "RrKytchFJ0YT",
        "outputId": "8af9acf3-78d5-49cd-acd1-e91b8512a58b"
      },
      "execution_count": null,
      "outputs": [
        {
          "output_type": "stream",
          "name": "stdout",
          "text": [
            "tf.Tensor(b'Abc Defgh ijkl', shape=(), dtype=string)\n"
          ]
        }
      ]
    },
    {
      "cell_type": "code",
      "source": [
        "a=tf.constant(['abc','def ghi','manjeet singht man','pareshi goel'])\n",
        "print(a)\n",
        "b=tf.strings.split(a,sep=' ')   #Ragged tensor\n",
        "print(b)\n",
        "print(tf.strings.length(b))"
      ],
      "metadata": {
        "colab": {
          "base_uri": "https://localhost:8080/"
        },
        "id": "tO18xnhdJ2go",
        "outputId": "45b8c2e3-7282-40bb-f886-0f453dcb6aec"
      },
      "execution_count": null,
      "outputs": [
        {
          "output_type": "stream",
          "name": "stdout",
          "text": [
            "tf.Tensor([b'abc' b'def ghi' b'manjeet singht man' b'pareshi goel'], shape=(4,), dtype=string)\n",
            "<tf.RaggedTensor [[b'abc'], [b'def', b'ghi'], [b'manjeet', b'singht', b'man'],\n",
            " [b'pareshi', b'goel']]>\n",
            "<tf.RaggedTensor [[3], [3, 3], [7, 6, 3], [7, 4]]>\n"
          ]
        }
      ]
    },
    {
      "cell_type": "code",
      "source": [
        "test=tf.constant('10 20 30 40 50 60 70 80')\n",
        "a=tf.strings.to_number(tf.strings.split(test,sep=' '))\n",
        "print(a)\n",
        "print(tf.reduce_sum(a))"
      ],
      "metadata": {
        "colab": {
          "base_uri": "https://localhost:8080/"
        },
        "id": "SblimEyuJ4UV",
        "outputId": "2aad38d7-fbda-49b0-ad43-65c7e4342a00"
      },
      "execution_count": null,
      "outputs": [
        {
          "output_type": "stream",
          "name": "stdout",
          "text": [
            "tf.Tensor([10. 20. 30. 40. 50. 60. 70. 80.], shape=(8,), dtype=float32)\n",
            "tf.Tensor(360.0, shape=(), dtype=float32)\n"
          ]
        }
      ]
    },
    {
      "cell_type": "code",
      "source": [
        "b=tf.constant('abc def ghijkl')\n",
        "print(tf.strings.length(b))\n",
        "c=tf.strings.split()"
      ],
      "metadata": {
        "colab": {
          "base_uri": "https://localhost:8080/",
          "height": 398
        },
        "id": "uFYk4bnzJ5-Y",
        "outputId": "c257b37d-787d-48ed-ce7f-38ecf5ae5286"
      },
      "execution_count": null,
      "outputs": [
        {
          "output_type": "stream",
          "name": "stdout",
          "text": [
            "tf.Tensor(14, shape=(), dtype=int32)\n"
          ]
        },
        {
          "output_type": "error",
          "ename": "TypeError",
          "evalue": "ignored",
          "traceback": [
            "\u001b[0;31m---------------------------------------------------------------------------\u001b[0m",
            "\u001b[0;31mTypeError\u001b[0m                                 Traceback (most recent call last)",
            "\u001b[0;32m<ipython-input-11-48b953cf9ccd>\u001b[0m in \u001b[0;36m<module>\u001b[0;34m\u001b[0m\n\u001b[1;32m      1\u001b[0m \u001b[0mb\u001b[0m\u001b[0;34m=\u001b[0m\u001b[0mtf\u001b[0m\u001b[0;34m.\u001b[0m\u001b[0mconstant\u001b[0m\u001b[0;34m(\u001b[0m\u001b[0;34m'abc def ghijkl'\u001b[0m\u001b[0;34m)\u001b[0m\u001b[0;34m\u001b[0m\u001b[0;34m\u001b[0m\u001b[0m\n\u001b[1;32m      2\u001b[0m \u001b[0mprint\u001b[0m\u001b[0;34m(\u001b[0m\u001b[0mtf\u001b[0m\u001b[0;34m.\u001b[0m\u001b[0mstrings\u001b[0m\u001b[0;34m.\u001b[0m\u001b[0mlength\u001b[0m\u001b[0;34m(\u001b[0m\u001b[0mb\u001b[0m\u001b[0;34m)\u001b[0m\u001b[0;34m)\u001b[0m\u001b[0;34m\u001b[0m\u001b[0;34m\u001b[0m\u001b[0m\n\u001b[0;32m----> 3\u001b[0;31m \u001b[0mc\u001b[0m\u001b[0;34m=\u001b[0m\u001b[0mtf\u001b[0m\u001b[0;34m.\u001b[0m\u001b[0mstrings\u001b[0m\u001b[0;34m.\u001b[0m\u001b[0msplit\u001b[0m\u001b[0;34m(\u001b[0m\u001b[0;34m)\u001b[0m\u001b[0;34m\u001b[0m\u001b[0;34m\u001b[0m\u001b[0m\n\u001b[0m",
            "\u001b[0;32m/usr/local/lib/python3.7/dist-packages/tensorflow/python/util/traceback_utils.py\u001b[0m in \u001b[0;36merror_handler\u001b[0;34m(*args, **kwargs)\u001b[0m\n\u001b[1;32m    151\u001b[0m     \u001b[0;32mexcept\u001b[0m \u001b[0mException\u001b[0m \u001b[0;32mas\u001b[0m \u001b[0me\u001b[0m\u001b[0;34m:\u001b[0m\u001b[0;34m\u001b[0m\u001b[0;34m\u001b[0m\u001b[0m\n\u001b[1;32m    152\u001b[0m       \u001b[0mfiltered_tb\u001b[0m \u001b[0;34m=\u001b[0m \u001b[0m_process_traceback_frames\u001b[0m\u001b[0;34m(\u001b[0m\u001b[0me\u001b[0m\u001b[0;34m.\u001b[0m\u001b[0m__traceback__\u001b[0m\u001b[0;34m)\u001b[0m\u001b[0;34m\u001b[0m\u001b[0;34m\u001b[0m\u001b[0m\n\u001b[0;32m--> 153\u001b[0;31m       \u001b[0;32mraise\u001b[0m \u001b[0me\u001b[0m\u001b[0;34m.\u001b[0m\u001b[0mwith_traceback\u001b[0m\u001b[0;34m(\u001b[0m\u001b[0mfiltered_tb\u001b[0m\u001b[0;34m)\u001b[0m \u001b[0;32mfrom\u001b[0m \u001b[0;32mNone\u001b[0m\u001b[0;34m\u001b[0m\u001b[0;34m\u001b[0m\u001b[0m\n\u001b[0m\u001b[1;32m    154\u001b[0m     \u001b[0;32mfinally\u001b[0m\u001b[0;34m:\u001b[0m\u001b[0;34m\u001b[0m\u001b[0;34m\u001b[0m\u001b[0m\n\u001b[1;32m    155\u001b[0m       \u001b[0;32mdel\u001b[0m \u001b[0mfiltered_tb\u001b[0m\u001b[0;34m\u001b[0m\u001b[0;34m\u001b[0m\u001b[0m\n",
            "\u001b[0;32m/usr/local/lib/python3.7/dist-packages/tensorflow/python/util/dispatch.py\u001b[0m in \u001b[0;36mop_dispatch_handler\u001b[0;34m(*args, **kwargs)\u001b[0m\n\u001b[1;32m   1074\u001b[0m         \u001b[0;32mif\u001b[0m \u001b[0miterable_params\u001b[0m \u001b[0;32mis\u001b[0m \u001b[0;32mnot\u001b[0m \u001b[0;32mNone\u001b[0m\u001b[0;34m:\u001b[0m\u001b[0;34m\u001b[0m\u001b[0;34m\u001b[0m\u001b[0m\n\u001b[1;32m   1075\u001b[0m           \u001b[0margs\u001b[0m\u001b[0;34m,\u001b[0m \u001b[0mkwargs\u001b[0m \u001b[0;34m=\u001b[0m \u001b[0mreplace_iterable_params\u001b[0m\u001b[0;34m(\u001b[0m\u001b[0margs\u001b[0m\u001b[0;34m,\u001b[0m \u001b[0mkwargs\u001b[0m\u001b[0;34m,\u001b[0m \u001b[0miterable_params\u001b[0m\u001b[0;34m)\u001b[0m\u001b[0;34m\u001b[0m\u001b[0;34m\u001b[0m\u001b[0m\n\u001b[0;32m-> 1076\u001b[0;31m         \u001b[0mresult\u001b[0m \u001b[0;34m=\u001b[0m \u001b[0mapi_dispatcher\u001b[0m\u001b[0;34m.\u001b[0m\u001b[0mDispatch\u001b[0m\u001b[0;34m(\u001b[0m\u001b[0margs\u001b[0m\u001b[0;34m,\u001b[0m \u001b[0mkwargs\u001b[0m\u001b[0;34m)\u001b[0m\u001b[0;34m\u001b[0m\u001b[0;34m\u001b[0m\u001b[0m\n\u001b[0m\u001b[1;32m   1077\u001b[0m         \u001b[0;32mif\u001b[0m \u001b[0mresult\u001b[0m \u001b[0;32mis\u001b[0m \u001b[0;32mnot\u001b[0m \u001b[0mNotImplemented\u001b[0m\u001b[0;34m:\u001b[0m\u001b[0;34m\u001b[0m\u001b[0;34m\u001b[0m\u001b[0m\n\u001b[1;32m   1078\u001b[0m           \u001b[0;32mreturn\u001b[0m \u001b[0mresult\u001b[0m\u001b[0;34m\u001b[0m\u001b[0;34m\u001b[0m\u001b[0m\n",
            "\u001b[0;31mTypeError\u001b[0m: Missing required positional argument"
          ]
        }
      ]
    },
    {
      "cell_type": "code",
      "source": [
        "print(tf.strings.regex_replace(\"Text with tags.<br /><b>contains html</b>\",\"<[^>]+>\",\" \"))"
      ],
      "metadata": {
        "colab": {
          "base_uri": "https://localhost:8080/"
        },
        "id": "LKN5NTugJ7jh",
        "outputId": "ae36a0e3-9d83-4694-9a1a-45e49b9fae39"
      },
      "execution_count": null,
      "outputs": [
        {
          "output_type": "stream",
          "name": "stdout",
          "text": [
            "tf.Tensor(b'Text with tags.  contains html ', shape=(), dtype=string)\n"
          ]
        }
      ]
    },
    {
      "cell_type": "code",
      "source": [
        "import tensorflow as tf\n",
        "tf.debugging.set_log_device_placement(True)\n",
        "a=tf.Variable([3+2j,5-6j])\n",
        "print(a.device)\n",
        "print(a.shape)\n",
        "print(a.dtype)\n",
        "print(a.numpy())\n",
        "print(a)\n",
        "print(tf.convert_to_tensor(a))"
      ],
      "metadata": {
        "colab": {
          "base_uri": "https://localhost:8080/"
        },
        "id": "AWnVIUVbJ-kF",
        "outputId": "017b6ed5-15b9-4f16-bb63-3f1a53de7445"
      },
      "execution_count": null,
      "outputs": [
        {
          "output_type": "stream",
          "name": "stdout",
          "text": [
            "/job:localhost/replica:0/task:0/device:CPU:0\n",
            "(2,)\n",
            "<dtype: 'complex128'>\n",
            "[3.+2.j 5.-6.j]\n",
            "<tf.Variable 'Variable:0' shape=(2,) dtype=complex128, numpy=array([3.+2.j, 5.-6.j])>\n",
            "tf.Tensor([3.+2.j 5.-6.j], shape=(2,), dtype=complex128)\n"
          ]
        }
      ]
    },
    {
      "cell_type": "code",
      "source": [
        "x=30\n",
        "y=30\n",
        "print(x==y)\n",
        "print(id(x)==id(y))\n",
        "\n",
        "#### tensorflow\n",
        "a=tf.Variable(30)\n",
        "b=tf.Variable(30)\n",
        "print(a==b)\n",
        "print(id(a)==id(b))"
      ],
      "metadata": {
        "colab": {
          "base_uri": "https://localhost:8080/"
        },
        "id": "Xjs7kYDaKEZm",
        "outputId": "7cef0a28-5614-4b56-ca33-12070930c769"
      },
      "execution_count": null,
      "outputs": [
        {
          "output_type": "stream",
          "name": "stdout",
          "text": [
            "True\n",
            "True\n",
            "tf.Tensor(True, shape=(), dtype=bool)\n",
            "False\n"
          ]
        }
      ]
    },
    {
      "cell_type": "code",
      "source": [
        "import tensorflow as tf\n",
        "import numpy as np\n",
        "x=tf.constant(np.arange(-10,10,-1))\n",
        "y_lin=x\n",
        "#y_sign=tf.nn.sigmoid(x)\n",
        "y_relu=tf.nn.relu(x)\n",
        "#y_tanh=tf.nn.tanh(x)\n",
        "y_thresh=np.where(x<0,0,1)\n",
        "import matplotlib.pyplot as plt\n",
        "plt.plot(x,y_lin)"
      ],
      "metadata": {
        "id": "1MUn6LU4KGih",
        "colab": {
          "base_uri": "https://localhost:8080/",
          "height": 282
        },
        "outputId": "7922d78d-6eef-4c79-d8d7-a8395a2d9b00"
      },
      "execution_count": null,
      "outputs": [
        {
          "output_type": "execute_result",
          "data": {
            "text/plain": [
              "[<matplotlib.lines.Line2D at 0x7fd57001ad90>]"
            ]
          },
          "metadata": {},
          "execution_count": 7
        },
        {
          "output_type": "display_data",
          "data": {
            "text/plain": [
              "<Figure size 432x288 with 1 Axes>"
            ],
            "image/png": "[encoded data removed]"
          },
          "metadata": {
            "needs_background": "light"
          }
        }
      ]
    },
    {
      "cell_type": "code",
      "source": [
        "x=tf.constant([1,2,3,4],dtype=tf.float32)\n",
        "y=tf.nn.softmax(x)\n",
        "print(x.numpy())\n",
        "print(y.numpy())\n",
        "print(tf.reduce_sum(y).numpy())\n",
        "print(tf.argmax(y).numpy())"
      ],
      "metadata": {
        "colab": {
          "base_uri": "https://localhost:8080/"
        },
        "id": "KPOtp_KGijte",
        "outputId": "39ddb8e4-d637-467a-9096-e609eeda8104"
      },
      "execution_count": null,
      "outputs": [
        {
          "output_type": "stream",
          "name": "stdout",
          "text": [
            "[1. 2. 3. 4.]\n",
            "[0.0320586  0.08714432 0.23688284 0.6439143 ]\n",
            "1.0\n",
            "3\n"
          ]
        }
      ]
    },
    {
      "cell_type": "markdown",
      "source": [
        "# ***MODEL 1***"
      ],
      "metadata": {
        "id": "ITeOojBxiDfE"
      }
    },
    {
      "cell_type": "code",
      "source": [
        "import tensorflow as tf\n",
        "from tensorflow import keras\n",
        "model= keras.Sequential(\n",
        "[\n",
        "    keras.layers.Dense(2,activation='relu'), #1st hidden layer\n",
        "    keras.layers.Dense(3), #2nd hidden layer\n",
        "    keras.layers.Dense(4) #output layer\n",
        "])\n",
        "\n",
        "x=tf.ones((3,3),dtype=tf.float32) #input= 3*3\n",
        "#p=(3*2+2)+(2*3+3)+(3*4+4)= 8+9+16= 33\n",
        "y=model(x) #passs input\n",
        "model.summary()\n",
        "\n",
        "################Save MODEL IN FIGURE\n",
        "\n",
        "##### pip install pydot\n",
        "####### pip install graphviz\n",
        "\n",
        "keras.utils.plot_model(model,'abc1.png',show_shapes=True)"
      ],
      "metadata": {
        "colab": {
          "base_uri": "https://localhost:8080/",
          "height": 682
        },
        "id": "ygwRDZ8Ziis-",
        "outputId": "39ec74ae-ad42-4f78-b117-cd30ee83f994"
      },
      "execution_count": null,
      "outputs": [
        {
          "output_type": "stream",
          "name": "stdout",
          "text": [
            "Model: \"sequential\"\n",
            "_________________________________________________________________\n",
            " Layer (type)                Output Shape              Param #   \n",
            "=================================================================\n",
            " dense (Dense)               (3, 2)                    8         \n",
            "                                                                 \n",
            " dense_1 (Dense)             (3, 3)                    9         \n",
            "                                                                 \n",
            " dense_2 (Dense)             (3, 4)                    16        \n",
            "                                                                 \n",
            "=================================================================\n",
            "Total params: 33\n",
            "Trainable params: 33\n",
            "Non-trainable params: 0\n",
            "_________________________________________________________________\n"
          ]
        },
        {
          "output_type": "execute_result",
          "data": {
            "image/png": "[encoded data removed]",
            "text/plain": [
              "<IPython.core.display.Image object>"
            ]
          },
          "metadata": {},
          "execution_count": 10
        }
      ]
    },
    {
      "cell_type": "code",
      "source": [
        "print(len(model.weights)) ## total weights 3W and 3B\n",
        "print(model.weights)\n",
        "print(model.weights[4].numpy())\n",
        "print(model.weights[3].numpy())"
      ],
      "metadata": {
        "colab": {
          "base_uri": "https://localhost:8080/"
        },
        "id": "3-4rXOJTiI-8",
        "outputId": "e223ed58-084a-4463-8bad-6519cc7458c8"
      },
      "execution_count": null,
      "outputs": [
        {
          "output_type": "stream",
          "name": "stdout",
          "text": [
            "6\n",
            "[<tf.Variable 'dense/kernel:0' shape=(3, 2) dtype=float32, numpy=\n",
            "array([[-0.18310654,  0.8196794 ],\n",
            "       [ 1.0150263 , -0.62363815],\n",
            "       [ 1.0517604 , -0.07837903]], dtype=float32)>, <tf.Variable 'dense/bias:0' shape=(2,) dtype=float32, numpy=array([0., 0.], dtype=float32)>, <tf.Variable 'dense_1/kernel:0' shape=(2, 3) dtype=float32, numpy=\n",
            "array([[ 0.34793246, -0.8461306 ,  1.0416315 ],\n",
            "       [ 0.9283943 ,  0.8906771 , -0.6739657 ]], dtype=float32)>, <tf.Variable 'dense_1/bias:0' shape=(3,) dtype=float32, numpy=array([0., 0., 0.], dtype=float32)>, <tf.Variable 'dense_2/kernel:0' shape=(3, 4) dtype=float32, numpy=\n",
            "array([[-0.676124  , -0.6961996 , -0.2850595 ,  0.6222098 ],\n",
            "       [ 0.53050816,  0.08583307,  0.17225075,  0.90311396],\n",
            "       [ 0.78598046, -0.6805154 ,  0.91710603,  0.142326  ]],\n",
            "      dtype=float32)>, <tf.Variable 'dense_2/bias:0' shape=(4,) dtype=float32, numpy=array([0., 0., 0., 0.], dtype=float32)>]\n",
            "[[-0.676124   -0.6961996  -0.2850595   0.6222098 ]\n",
            " [ 0.53050816  0.08583307  0.17225075  0.90311396]\n",
            " [ 0.78598046 -0.6805154   0.91710603  0.142326  ]]\n",
            "[0. 0. 0.]\n"
          ]
        }
      ]
    },
    {
      "cell_type": "code",
      "source": [
        "print(x.shape)\n",
        "print(y.shape)\n",
        "print(model.layers)"
      ],
      "metadata": {
        "colab": {
          "base_uri": "https://localhost:8080/"
        },
        "id": "NkZxgoQInp3R",
        "outputId": "85e91496-275c-4602-806c-6ebf7c2bb03e"
      },
      "execution_count": null,
      "outputs": [
        {
          "output_type": "stream",
          "name": "stdout",
          "text": [
            "(3, 3)\n",
            "(3, 4)\n",
            "[<keras.layers.core.dense.Dense object at 0x7fd5712ac6d0>, <keras.layers.core.dense.Dense object at 0x7fd56f2f9d50>, <keras.layers.core.dense.Dense object at 0x7fd56f2f9510>]\n"
          ]
        }
      ]
    },
    {
      "cell_type": "markdown",
      "source": [
        "# MODEL 2"
      ],
      "metadata": {
        "id": "pSb1t1N3pFt3"
      }
    },
    {
      "cell_type": "code",
      "source": [
        "######################## METHOD 2\n",
        "import tensorflow as tf\n",
        "from tensorflow import keras\n",
        "\n",
        "l1= keras.layers.Dense(2,activation='relu')\n",
        "l2= keras.layers.Dense(3)\n",
        "l3= keras.layers.Dense(4)\n",
        "\n",
        "x=tf.ones((3,3),dtype=tf.float32)\n",
        "\n",
        "y=l3(l2(l1(x)))\n",
        "print(y.shape)"
      ],
      "metadata": {
        "colab": {
          "base_uri": "https://localhost:8080/"
        },
        "id": "ebs-GihBn2xg",
        "outputId": "3f73f27c-10ac-4cf3-e053-0c6a5b6133df"
      },
      "execution_count": null,
      "outputs": [
        {
          "output_type": "stream",
          "name": "stdout",
          "text": [
            "(3, 4)\n"
          ]
        }
      ]
    },
    {
      "cell_type": "markdown",
      "source": [
        "## MODEL 3"
      ],
      "metadata": {
        "id": "VpPwm882pE48"
      }
    },
    {
      "cell_type": "code",
      "source": [
        "import tensorflow as tf\n",
        "model= tf.keras.Sequential()\n",
        "model.add(tf.keras.layers.Dense(2,activation='relu'))\n",
        "model.add(tf.keras.layers.Dense(3))\n",
        "model.add(tf.keras.layers.Dense(4))\n",
        "\n",
        "x=tf.ones((3,3),dtype=tf.float32)\n",
        "\n",
        "y= model(x)\n",
        "model.summary()\n",
        "model.pop() #########delete top layer\n",
        "model.summary"
      ],
      "metadata": {
        "colab": {
          "base_uri": "https://localhost:8080/"
        },
        "id": "9b63SKQeojRW",
        "outputId": "cad084ba-c8a4-4ab2-8150-29ac79232316"
      },
      "execution_count": null,
      "outputs": [
        {
          "output_type": "stream",
          "name": "stdout",
          "text": [
            "Model: \"sequential_1\"\n",
            "_________________________________________________________________\n",
            " Layer (type)                Output Shape              Param #   \n",
            "=================================================================\n",
            " dense_9 (Dense)             (3, 2)                    8         \n",
            "                                                                 \n",
            " dense_10 (Dense)            (3, 3)                    9         \n",
            "                                                                 \n",
            " dense_11 (Dense)            (3, 4)                    16        \n",
            "                                                                 \n",
            "=================================================================\n",
            "Total params: 33\n",
            "Trainable params: 33\n",
            "Non-trainable params: 0\n",
            "_________________________________________________________________\n"
          ]
        },
        {
          "output_type": "execute_result",
          "data": {
            "text/plain": [
              "<bound method Model.summary of <keras.engine.sequential.Sequential object at 0x7fd56ec5c210>>"
            ]
          },
          "metadata": {},
          "execution_count": 16
        }
      ]
    },
    {
      "cell_type": "code",
      "source": [
        "import tensorflow as tf\n",
        "model= tf.keras.Sequential()\n",
        "model.add(tf.keras.layers.Dense(2,activation='relu'))\n",
        "model.add(tf.keras.layers.Dense(3))\n",
        "model.add(tf.keras.layers.Dense(4))\n",
        "\n",
        "model.summary()\n",
        "######### model is created but initial weight is not provided"
      ],
      "metadata": {
        "colab": {
          "base_uri": "https://localhost:8080/",
          "height": 322
        },
        "id": "VcS2Rl19pth6",
        "outputId": "571e2814-b659-4196-8b94-58566ba94b0b"
      },
      "execution_count": null,
      "outputs": [
        {
          "output_type": "error",
          "ename": "ValueError",
          "evalue": "ignored",
          "traceback": [
            "\u001b[0;31m---------------------------------------------------------------------------\u001b[0m",
            "\u001b[0;31mValueError\u001b[0m                                Traceback (most recent call last)",
            "\u001b[0;32m<ipython-input-17-db4b708a32c6>\u001b[0m in \u001b[0;36m<module>\u001b[0;34m\u001b[0m\n\u001b[1;32m      5\u001b[0m \u001b[0mmodel\u001b[0m\u001b[0;34m.\u001b[0m\u001b[0madd\u001b[0m\u001b[0;34m(\u001b[0m\u001b[0mtf\u001b[0m\u001b[0;34m.\u001b[0m\u001b[0mkeras\u001b[0m\u001b[0;34m.\u001b[0m\u001b[0mlayers\u001b[0m\u001b[0;34m.\u001b[0m\u001b[0mDense\u001b[0m\u001b[0;34m(\u001b[0m\u001b[0;36m4\u001b[0m\u001b[0;34m)\u001b[0m\u001b[0;34m)\u001b[0m\u001b[0;34m\u001b[0m\u001b[0;34m\u001b[0m\u001b[0m\n\u001b[1;32m      6\u001b[0m \u001b[0;34m\u001b[0m\u001b[0m\n\u001b[0;32m----> 7\u001b[0;31m \u001b[0mmodel\u001b[0m\u001b[0;34m.\u001b[0m\u001b[0msummary\u001b[0m\u001b[0;34m(\u001b[0m\u001b[0;34m)\u001b[0m\u001b[0;34m\u001b[0m\u001b[0;34m\u001b[0m\u001b[0m\n\u001b[0m",
            "\u001b[0;32m/usr/local/lib/python3.7/dist-packages/keras/engine/training.py\u001b[0m in \u001b[0;36msummary\u001b[0;34m(self, line_length, positions, print_fn, expand_nested, show_trainable)\u001b[0m\n\u001b[1;32m   2774\u001b[0m     \u001b[0;32mif\u001b[0m \u001b[0;32mnot\u001b[0m \u001b[0mself\u001b[0m\u001b[0;34m.\u001b[0m\u001b[0mbuilt\u001b[0m\u001b[0;34m:\u001b[0m\u001b[0;34m\u001b[0m\u001b[0;34m\u001b[0m\u001b[0m\n\u001b[1;32m   2775\u001b[0m       raise ValueError(\n\u001b[0;32m-> 2776\u001b[0;31m           \u001b[0;34m'This model has not yet been built. '\u001b[0m\u001b[0;34m\u001b[0m\u001b[0;34m\u001b[0m\u001b[0m\n\u001b[0m\u001b[1;32m   2777\u001b[0m           \u001b[0;34m'Build the model first by calling `build()` or by calling '\u001b[0m\u001b[0;34m\u001b[0m\u001b[0;34m\u001b[0m\u001b[0m\n\u001b[1;32m   2778\u001b[0m           'the model on a batch of data.')\n",
            "\u001b[0;31mValueError\u001b[0m: This model has not yet been built. Build the model first by calling `build()` or by calling the model on a batch of data."
          ]
        }
      ]
    },
    {
      "cell_type": "markdown",
      "source": [
        "### SET INPUT LAYER, EXPLICITLY"
      ],
      "metadata": {
        "id": "-SqY2NptqoF4"
      }
    },
    {
      "cell_type": "code",
      "source": [
        "import tensorflow as tf\n",
        "from tensorflow import keras\n",
        "\n",
        "####### design a model\n",
        "\n",
        "model= tf.keras.Sequential()\n",
        "model.add(keras.layers.InputLayer(input_shape=(4,)))    ########input layer explicitly\n",
        "model.add(tf.keras.layers.Dense(2,activation='relu'))\n",
        "model.add(tf.keras.layers.Dense(3))\n",
        "model.add(tf.keras.layers.Dense(4))\n",
        "\n",
        "model.summary()\n"
      ],
      "metadata": {
        "colab": {
          "base_uri": "https://localhost:8080/"
        },
        "id": "7K8chVolqrpM",
        "outputId": "dd21c13e-11a0-472a-aee0-e33205f608a6"
      },
      "execution_count": null,
      "outputs": [
        {
          "output_type": "stream",
          "name": "stdout",
          "text": [
            "Model: \"sequential_4\"\n",
            "_________________________________________________________________\n",
            " Layer (type)                Output Shape              Param #   \n",
            "=================================================================\n",
            " dense_18 (Dense)            (None, 2)                 10        \n",
            "                                                                 \n",
            " dense_19 (Dense)            (None, 3)                 9         \n",
            "                                                                 \n",
            " dense_20 (Dense)            (None, 4)                 16        \n",
            "                                                                 \n",
            "=================================================================\n",
            "Total params: 35\n",
            "Trainable params: 35\n",
            "Non-trainable params: 0\n",
            "_________________________________________________________________\n"
          ]
        }
      ]
    },
    {
      "cell_type": "code",
      "source": [
        "########\n",
        "\n",
        "x=tf.ones((30,4),dtype=tf.float32)\n",
        "y=model(x)  ###     30,4=OK                30,5= Error\n",
        "print(y.shape)"
      ],
      "metadata": {
        "colab": {
          "base_uri": "https://localhost:8080/"
        },
        "id": "Fbllv-tErCXt",
        "outputId": "1058cc44-552d-45f3-8503-e6dc96a3fe58"
      },
      "execution_count": null,
      "outputs": [
        {
          "output_type": "stream",
          "name": "stdout",
          "text": [
            "(30, 4)\n"
          ]
        }
      ]
    },
    {
      "cell_type": "markdown",
      "source": [
        "## ###########  PROGRAM1"
      ],
      "metadata": {
        "id": "SYMSXVLWrgEk"
      }
    },
    {
      "cell_type": "markdown",
      "source": [
        "Basic program to implement keras sequential model for classification of 100 random vectors each having 5 features in 3 classes"
      ],
      "metadata": {
        "id": "PRaklWzgrmh2"
      }
    },
    {
      "cell_type": "code",
      "source": [
        "import tensorflow as tf\n",
        "from tensorflow import keras\n",
        "\n",
        "model = keras.Sequential()\n",
        "\n",
        "model.add(keras.layers.InputLayer(input_shape = (5,)))\n",
        "model.add(tf.keras.layers.Dense(2, activation = 'relu'))\n",
        "model.add(tf.keras.layers.Dense(3))\n",
        "model.add(tf.keras.layers.Dense(4))\n",
        "\n",
        "x = tf.ones((100,5), dtype = tf.float32)\n",
        "\n",
        "y = model(x)\n",
        "print(y.shape)"
      ],
      "metadata": {
        "colab": {
          "base_uri": "https://localhost:8080/"
        },
        "id": "mIv3SQ9GrS4_",
        "outputId": "7d67f7f2-5206-472d-c677-27f707d9a2d2"
      },
      "execution_count": null,
      "outputs": [
        {
          "output_type": "stream",
          "name": "stdout",
          "text": [
            "(100, 4)\n"
          ]
        }
      ]
    },
    {
      "cell_type": "code",
      "source": [
        "import numpy as np\n",
        "\n",
        "import tensorflow as tf\n",
        "from tensorflow import keras\n",
        "#input and target\n",
        "x=tf.random.normal((100,5)).numpy()\n",
        "t=np.zeros(100)\n",
        "\n",
        "#####################\n",
        "\n",
        "# class 0= 30     class 1= 30               class 2= 40\n",
        "\n",
        "t[30:61]=1\n",
        "t[61:]=2\n",
        "print(t)\n",
        "\n",
        "######################\n",
        "model=keras.Sequential()\n",
        "model.add(keras.layers.Dense(5,input_shape=(5,)))\n",
        "model.add(keras.layers.Dense(3, activation='softmax'))\n",
        "\n",
        "#########################\n",
        "\n",
        "model.summary()\n",
        "\n",
        "##################\n",
        "\n",
        "model.compile(optimizer='adam',loss='sparse_categorical_crossentropy', metrics=['accuracy'])\n",
        "hist = model.fit(x, t, epochs = 10, validation_split = 0.1, batch_size = 10)\n",
        "\n"
      ],
      "metadata": {
        "colab": {
          "base_uri": "https://localhost:8080/"
        },
        "id": "zX-CrANjsZYO",
        "outputId": "cfe3de17-2072-460d-c172-2fa50c5de046"
      },
      "execution_count": null,
      "outputs": [
        {
          "output_type": "stream",
          "name": "stdout",
          "text": [
            "[0. 0. 0. 0. 0. 0. 0. 0. 0. 0. 0. 0. 0. 0. 0. 0. 0. 0. 0. 0. 0. 0. 0. 0.\n",
            " 0. 0. 0. 0. 0. 0. 1. 1. 1. 1. 1. 1. 1. 1. 1. 1. 1. 1. 1. 1. 1. 1. 1. 1.\n",
            " 1. 1. 1. 1. 1. 1. 1. 1. 1. 1. 1. 1. 1. 2. 2. 2. 2. 2. 2. 2. 2. 2. 2. 2.\n",
            " 2. 2. 2. 2. 2. 2. 2. 2. 2. 2. 2. 2. 2. 2. 2. 2. 2. 2. 2. 2. 2. 2. 2. 2.\n",
            " 2. 2. 2. 2.]\n",
            "Model: \"sequential_7\"\n",
            "_________________________________________________________________\n",
            " Layer (type)                Output Shape              Param #   \n",
            "=================================================================\n",
            " dense_26 (Dense)            (None, 5)                 30        \n",
            "                                                                 \n",
            " dense_27 (Dense)            (None, 3)                 18        \n",
            "                                                                 \n",
            "=================================================================\n",
            "Total params: 48\n",
            "Trainable params: 48\n",
            "Non-trainable params: 0\n",
            "_________________________________________________________________\n",
            "Epoch 1/10\n",
            "9/9 [==============================] - 1s 23ms/step - loss: 1.7827 - accuracy: 0.2444 - val_loss: 1.8023 - val_accuracy: 0.4000\n",
            "Epoch 2/10\n",
            "9/9 [==============================] - 0s 4ms/step - loss: 1.7468 - accuracy: 0.2444 - val_loss: 1.7798 - val_accuracy: 0.4000\n",
            "Epoch 3/10\n",
            "9/9 [==============================] - 0s 6ms/step - loss: 1.7184 - accuracy: 0.2444 - val_loss: 1.7597 - val_accuracy: 0.4000\n",
            "Epoch 4/10\n",
            "9/9 [==============================] - 0s 4ms/step - loss: 1.6862 - accuracy: 0.2444 - val_loss: 1.7371 - val_accuracy: 0.4000\n",
            "Epoch 5/10\n",
            "9/9 [==============================] - 0s 4ms/step - loss: 1.6568 - accuracy: 0.2556 - val_loss: 1.7175 - val_accuracy: 0.4000\n",
            "Epoch 6/10\n",
            "9/9 [==============================] - 0s 4ms/step - loss: 1.6302 - accuracy: 0.2556 - val_loss: 1.6976 - val_accuracy: 0.3000\n",
            "Epoch 7/10\n",
            "9/9 [==============================] - 0s 4ms/step - loss: 1.6032 - accuracy: 0.2556 - val_loss: 1.6753 - val_accuracy: 0.4000\n",
            "Epoch 8/10\n",
            "9/9 [==============================] - 0s 4ms/step - loss: 1.5807 - accuracy: 0.2556 - val_loss: 1.6578 - val_accuracy: 0.3000\n",
            "Epoch 9/10\n",
            "9/9 [==============================] - 0s 4ms/step - loss: 1.5557 - accuracy: 0.2556 - val_loss: 1.6434 - val_accuracy: 0.3000\n",
            "Epoch 10/10\n",
            "9/9 [==============================] - 0s 4ms/step - loss: 1.5318 - accuracy: 0.2667 - val_loss: 1.6259 - val_accuracy: 0.3000\n"
          ]
        }
      ]
    },
    {
      "cell_type": "markdown",
      "source": [
        "### TRAINING STATS"
      ],
      "metadata": {
        "id": "g4T4zN_Yy0Tv"
      }
    },
    {
      "cell_type": "code",
      "source": [
        "  #dictionary of loss, accuracy, value_loss, value_accuracy\n",
        "\n",
        "dict = hist.history\n",
        "print(dict.keys())\n",
        "\n",
        "import pandas as pd\n",
        "df = pd.DataFrame(dict)\n",
        "df['epoch'] = hist.epoch\n",
        "\n",
        "print(df)"
      ],
      "metadata": {
        "id": "2zsOP5G4vbLp",
        "colab": {
          "base_uri": "https://localhost:8080/"
        },
        "outputId": "988c601a-daa7-4f46-a968-4b0185b8a7b7"
      },
      "execution_count": null,
      "outputs": [
        {
          "output_type": "stream",
          "name": "stdout",
          "text": [
            "dict_keys(['loss', 'accuracy', 'val_loss', 'val_accuracy'])\n",
            "       loss  accuracy  val_loss  val_accuracy  epoch\n",
            "0  1.782663  0.244444  1.802349           0.4      0\n",
            "1  1.746825  0.244444  1.779819           0.4      1\n",
            "2  1.718353  0.244444  1.759664           0.4      2\n",
            "3  1.686244  0.244444  1.737124           0.4      3\n",
            "4  1.656820  0.255556  1.717548           0.4      4\n",
            "5  1.630217  0.255556  1.697577           0.3      5\n",
            "6  1.603246  0.255556  1.675316           0.4      6\n",
            "7  1.580729  0.255556  1.657845           0.3      7\n",
            "8  1.555732  0.255556  1.643427           0.3      8\n",
            "9  1.531760  0.266667  1.625890           0.3      9\n"
          ]
        }
      ]
    },
    {
      "cell_type": "code",
      "source": [
        "import matplotlib.pyplot as plt\n",
        "plt.plot(df['loss'],label='Training loss')\n",
        "plt.plot(df['val_loss'],label='VAL loss')\n",
        "plt.legend()\n",
        "plt.show()\n",
        "plt.figure(1)\n",
        "plt.plot(df['accuracy'],label='Training Accuracy')\n",
        "plt.plot(df['val_accuracy'],label='VAL Accuracy')\n",
        "plt.legend()\n",
        "plt.show()"
      ],
      "metadata": {
        "colab": {
          "base_uri": "https://localhost:8080/",
          "height": 513
        },
        "id": "x6NFYWDky9Vp",
        "outputId": "492da44c-ee89-4590-a272-b41cba8c7c2d"
      },
      "execution_count": null,
      "outputs": [
        {
          "output_type": "display_data",
          "data": {
            "text/plain": [
              "<Figure size 432x288 with 1 Axes>"
            ],
            "image/png": "[encoded data removed]"
          },
          "metadata": {
            "needs_background": "light"
          }
        },
        {
          "output_type": "display_data",
          "data": {
            "text/plain": [
              "<Figure size 432x288 with 1 Axes>"
            ],
            "image/png": "[encoded data removed]"
          },
          "metadata": {
            "needs_background": "light"
          }
        }
      ]
    },
    {
      "cell_type": "markdown",
      "source": [
        "### TEST THE MODEL"
      ],
      "metadata": {
        "id": "IbrMKZFM1Z31"
      }
    },
    {
      "cell_type": "code",
      "source": [
        "test_loss, test_acc=model.evaluate(x,t)\n",
        "print('TEST LOSS: ', test_loss)\n",
        "print('TEST ACC: ', test_acc)"
      ],
      "metadata": {
        "colab": {
          "base_uri": "https://localhost:8080/"
        },
        "id": "dh_7XWhX1IIj",
        "outputId": "ce195586-2ba1-4024-e1e5-8d6d80588d2d"
      },
      "execution_count": null,
      "outputs": [
        {
          "output_type": "stream",
          "name": "stdout",
          "text": [
            "4/4 [==============================] - 0s 6ms/step - loss: 1.5316 - accuracy: 0.2700\n",
            "TEST LOSS:  1.5315817594528198\n",
            "TEST ACC:  0.27000001072883606\n"
          ]
        }
      ]
    },
    {
      "cell_type": "markdown",
      "source": [
        "### PREDICT THE MODEL"
      ],
      "metadata": {
        "id": "OmNrnDsk1s6m"
      }
    },
    {
      "cell_type": "code",
      "source": [
        "x_new = tf.random.uniform((1,5))\n",
        "\n",
        "p = model.predict(x_new)\n",
        "print(p)\n",
        "\n",
        "print('Predicted Class', np.argmax(p))"
      ],
      "metadata": {
        "colab": {
          "base_uri": "https://localhost:8080/"
        },
        "id": "LfAZEXEQ1qs0",
        "outputId": "a66219e0-53a4-437b-8faf-84df8c82327f"
      },
      "execution_count": null,
      "outputs": [
        {
          "output_type": "stream",
          "name": "stdout",
          "text": [
            "[[0.35173476 0.21373308 0.43453214]]\n",
            "Predicted Class 2\n"
          ]
        }
      ]
    },
    {
      "cell_type": "code",
      "source": [
        "x_new = tf.random.uniform((5,))\n",
        "x_new.numpy()\n",
        "x_new1= tf.expand_dims(x_new, axis=0)\n",
        "p= model.predict(x_new1)\n",
        "print(p)\n",
        "print('PREDICTED CLASS: ', np.argmax(p))  ############ 0,1,2"
      ],
      "metadata": {
        "colab": {
          "base_uri": "https://localhost:8080/"
        },
        "id": "J88LtxNF10CV",
        "outputId": "b455f151-7767-4c82-ca63-b7b3b41de3e8"
      },
      "execution_count": null,
      "outputs": [
        {
          "output_type": "stream",
          "name": "stdout",
          "text": [
            "[[0.23593487 0.08807175 0.67599344]]\n",
            "PREDICTED CLASS:  2\n"
          ]
        }
      ]
    },
    {
      "cell_type": "markdown",
      "source": [
        "### SAVE THE MODEL"
      ],
      "metadata": {
        "id": "ilKOQiJi3rcX"
      }
    },
    {
      "cell_type": "markdown",
      "source": [
        "## LOAD THE MODEL"
      ],
      "metadata": {
        "id": "5lrOIQFI48TY"
      }
    },
    {
      "cell_type": "code",
      "source": [
        "model1= keras.models.load_model('Model2')\n",
        "print(model1.weights)\n",
        "model1.summary()"
      ],
      "metadata": {
        "colab": {
          "base_uri": "https://localhost:8080/"
        },
        "id": "SOUWawPv4Cgj",
        "outputId": "2dbd5ef3-50c4-428f-9835-8a1265d80ee7"
      },
      "execution_count": null,
      "outputs": [
        {
          "output_type": "stream",
          "name": "stdout",
          "text": [
            "[<tf.Variable 'dense_26/kernel:0' shape=(5, 5) dtype=float32, numpy=\n",
            "array([[-0.33366424,  0.58196276,  0.68596894,  0.17340243, -0.69214046],\n",
            "       [-0.1878059 ,  0.3953304 , -0.18229769,  0.6918222 ,  0.30050611],\n",
            "       [ 0.69732153,  0.6537731 ,  0.1625213 ,  0.20856872,  0.3512768 ],\n",
            "       [ 0.4455997 , -0.09946621, -0.37522087, -0.22850892,  0.05525111],\n",
            "       [ 0.38968867,  0.19634664,  0.557935  , -0.38576144, -0.5778435 ]],\n",
            "      dtype=float32)>, <tf.Variable 'dense_26/bias:0' shape=(5,) dtype=float32, numpy=\n",
            "array([ 0.01151681, -0.02384978, -0.0183739 , -0.01044942, -0.0205411 ],\n",
            "      dtype=float32)>, <tf.Variable 'dense_27/kernel:0' shape=(5, 3) dtype=float32, numpy=\n",
            "array([[ 0.66962945, -0.34683022, -0.03312986],\n",
            "       [-0.7783994 , -0.6891272 ,  0.674877  ],\n",
            "       [-0.78321266, -0.3052193 , -0.3276043 ],\n",
            "       [ 0.36422896, -0.65902734,  0.4805837 ],\n",
            "       [-0.19103858,  0.5721517 ,  0.6905543 ]], dtype=float32)>, <tf.Variable 'dense_27/bias:0' shape=(3,) dtype=float32, numpy=array([ 0.01803413,  0.00753401, -0.02402443], dtype=float32)>]\n",
            "Model: \"sequential_7\"\n",
            "_________________________________________________________________\n",
            " Layer (type)                Output Shape              Param #   \n",
            "=================================================================\n",
            " dense_26 (Dense)            (None, 5)                 30        \n",
            "                                                                 \n",
            " dense_27 (Dense)            (None, 3)                 18        \n",
            "                                                                 \n",
            "=================================================================\n",
            "Total params: 48\n",
            "Trainable params: 48\n",
            "Non-trainable params: 0\n",
            "_________________________________________________________________\n"
          ]
        }
      ]
    },
    {
      "cell_type": "markdown",
      "source": [
        "OVERFITTING\n",
        "\n",
        "1. Dropout Layer # it will close random connections\n",
        "2. Regularization # Penalty/Additional Cost L1,L2\n",
        "3. Early Stopping"
      ],
      "metadata": {
        "id": "sTVaYt977QCQ"
      }
    },
    {
      "cell_type": "code",
      "source": [],
      "metadata": {
        "id": "mvs8R7jT5Moo"
      },
      "execution_count": null,
      "outputs": []
    }
  ]
}